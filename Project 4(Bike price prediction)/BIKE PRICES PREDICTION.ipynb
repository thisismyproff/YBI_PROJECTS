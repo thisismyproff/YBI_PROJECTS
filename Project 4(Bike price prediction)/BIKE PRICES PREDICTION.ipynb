{
 "cells": [
  {
   "cell_type": "code",
   "execution_count": 2,
   "id": "c775875c",
   "metadata": {},
   "outputs": [],
   "source": [
    "import pandas as pd\n",
    "import numpy as np\n",
    "import matplotlib.pyplot as plt\n",
    "import seaborn as sns"
   ]
  },
  {
   "cell_type": "code",
   "execution_count": 3,
   "id": "7a46a71a",
   "metadata": {},
   "outputs": [],
   "source": [
    "df = pd.read_csv('Bike Prices.csv')"
   ]
  },
  {
   "cell_type": "code",
   "execution_count": 4,
   "id": "87bf3773",
   "metadata": {},
   "outputs": [
    {
     "data": {
      "text/html": [
       "<div>\n",
       "<style scoped>\n",
       "    .dataframe tbody tr th:only-of-type {\n",
       "        vertical-align: middle;\n",
       "    }\n",
       "\n",
       "    .dataframe tbody tr th {\n",
       "        vertical-align: top;\n",
       "    }\n",
       "\n",
       "    .dataframe thead th {\n",
       "        text-align: right;\n",
       "    }\n",
       "</style>\n",
       "<table border=\"1\" class=\"dataframe\">\n",
       "  <thead>\n",
       "    <tr style=\"text-align: right;\">\n",
       "      <th></th>\n",
       "      <th>Brand</th>\n",
       "      <th>Model</th>\n",
       "      <th>Selling_Price</th>\n",
       "      <th>Year</th>\n",
       "      <th>Seller_Type</th>\n",
       "      <th>Owner</th>\n",
       "      <th>KM_Driven</th>\n",
       "      <th>Ex_Showroom_Price</th>\n",
       "    </tr>\n",
       "  </thead>\n",
       "  <tbody>\n",
       "    <tr>\n",
       "      <th>0</th>\n",
       "      <td>TVS</td>\n",
       "      <td>TVS XL 100</td>\n",
       "      <td>30000</td>\n",
       "      <td>2017</td>\n",
       "      <td>Individual</td>\n",
       "      <td>1st owner</td>\n",
       "      <td>8000</td>\n",
       "      <td>30490.0</td>\n",
       "    </tr>\n",
       "    <tr>\n",
       "      <th>1</th>\n",
       "      <td>Bajaj</td>\n",
       "      <td>Bajaj  ct 100</td>\n",
       "      <td>18000</td>\n",
       "      <td>2017</td>\n",
       "      <td>Individual</td>\n",
       "      <td>1st owner</td>\n",
       "      <td>35000</td>\n",
       "      <td>32000.0</td>\n",
       "    </tr>\n",
       "    <tr>\n",
       "      <th>2</th>\n",
       "      <td>Yo</td>\n",
       "      <td>Yo Style</td>\n",
       "      <td>20000</td>\n",
       "      <td>2011</td>\n",
       "      <td>Individual</td>\n",
       "      <td>1st owner</td>\n",
       "      <td>10000</td>\n",
       "      <td>37675.0</td>\n",
       "    </tr>\n",
       "    <tr>\n",
       "      <th>3</th>\n",
       "      <td>Bajaj</td>\n",
       "      <td>Bajaj Discover 100</td>\n",
       "      <td>25000</td>\n",
       "      <td>2010</td>\n",
       "      <td>Individual</td>\n",
       "      <td>1st owner</td>\n",
       "      <td>43000</td>\n",
       "      <td>42859.0</td>\n",
       "    </tr>\n",
       "    <tr>\n",
       "      <th>4</th>\n",
       "      <td>Bajaj</td>\n",
       "      <td>Bajaj Discover 100</td>\n",
       "      <td>24999</td>\n",
       "      <td>2012</td>\n",
       "      <td>Individual</td>\n",
       "      <td>2nd owner</td>\n",
       "      <td>35000</td>\n",
       "      <td>42859.0</td>\n",
       "    </tr>\n",
       "  </tbody>\n",
       "</table>\n",
       "</div>"
      ],
      "text/plain": [
       "   Brand               Model  Selling_Price  Year Seller_Type      Owner  \\\n",
       "0    TVS          TVS XL 100          30000  2017  Individual  1st owner   \n",
       "1  Bajaj       Bajaj  ct 100          18000  2017  Individual  1st owner   \n",
       "2     Yo            Yo Style          20000  2011  Individual  1st owner   \n",
       "3  Bajaj  Bajaj Discover 100          25000  2010  Individual  1st owner   \n",
       "4  Bajaj  Bajaj Discover 100          24999  2012  Individual  2nd owner   \n",
       "\n",
       "   KM_Driven  Ex_Showroom_Price  \n",
       "0       8000            30490.0  \n",
       "1      35000            32000.0  \n",
       "2      10000            37675.0  \n",
       "3      43000            42859.0  \n",
       "4      35000            42859.0  "
      ]
     },
     "execution_count": 4,
     "metadata": {},
     "output_type": "execute_result"
    }
   ],
   "source": [
    "df.head()"
   ]
  },
  {
   "cell_type": "code",
   "execution_count": 5,
   "id": "56ec84e9",
   "metadata": {},
   "outputs": [
    {
     "name": "stdout",
     "output_type": "stream",
     "text": [
      "<class 'pandas.core.frame.DataFrame'>\n",
      "RangeIndex: 1061 entries, 0 to 1060\n",
      "Data columns (total 8 columns):\n",
      " #   Column             Non-Null Count  Dtype  \n",
      "---  ------             --------------  -----  \n",
      " 0   Brand              1061 non-null   object \n",
      " 1   Model              1061 non-null   object \n",
      " 2   Selling_Price      1061 non-null   int64  \n",
      " 3   Year               1061 non-null   int64  \n",
      " 4   Seller_Type        1061 non-null   object \n",
      " 5   Owner              1061 non-null   object \n",
      " 6   KM_Driven          1061 non-null   int64  \n",
      " 7   Ex_Showroom_Price  626 non-null    float64\n",
      "dtypes: float64(1), int64(3), object(4)\n",
      "memory usage: 66.4+ KB\n"
     ]
    }
   ],
   "source": [
    "df.info()"
   ]
  },
  {
   "cell_type": "code",
   "execution_count": 6,
   "id": "c68e0654",
   "metadata": {},
   "outputs": [
    {
     "data": {
      "text/html": [
       "<div>\n",
       "<style scoped>\n",
       "    .dataframe tbody tr th:only-of-type {\n",
       "        vertical-align: middle;\n",
       "    }\n",
       "\n",
       "    .dataframe tbody tr th {\n",
       "        vertical-align: top;\n",
       "    }\n",
       "\n",
       "    .dataframe thead th {\n",
       "        text-align: right;\n",
       "    }\n",
       "</style>\n",
       "<table border=\"1\" class=\"dataframe\">\n",
       "  <thead>\n",
       "    <tr style=\"text-align: right;\">\n",
       "      <th></th>\n",
       "      <th>Selling_Price</th>\n",
       "      <th>Year</th>\n",
       "      <th>KM_Driven</th>\n",
       "      <th>Ex_Showroom_Price</th>\n",
       "    </tr>\n",
       "  </thead>\n",
       "  <tbody>\n",
       "    <tr>\n",
       "      <th>count</th>\n",
       "      <td>1061.000000</td>\n",
       "      <td>1061.000000</td>\n",
       "      <td>1061.000000</td>\n",
       "      <td>6.260000e+02</td>\n",
       "    </tr>\n",
       "    <tr>\n",
       "      <th>mean</th>\n",
       "      <td>59638.151744</td>\n",
       "      <td>2013.867107</td>\n",
       "      <td>34359.833176</td>\n",
       "      <td>8.795871e+04</td>\n",
       "    </tr>\n",
       "    <tr>\n",
       "      <th>std</th>\n",
       "      <td>56304.291973</td>\n",
       "      <td>4.301191</td>\n",
       "      <td>51623.152702</td>\n",
       "      <td>7.749659e+04</td>\n",
       "    </tr>\n",
       "    <tr>\n",
       "      <th>min</th>\n",
       "      <td>5000.000000</td>\n",
       "      <td>1988.000000</td>\n",
       "      <td>350.000000</td>\n",
       "      <td>3.049000e+04</td>\n",
       "    </tr>\n",
       "    <tr>\n",
       "      <th>25%</th>\n",
       "      <td>28000.000000</td>\n",
       "      <td>2011.000000</td>\n",
       "      <td>13500.000000</td>\n",
       "      <td>5.485200e+04</td>\n",
       "    </tr>\n",
       "    <tr>\n",
       "      <th>50%</th>\n",
       "      <td>45000.000000</td>\n",
       "      <td>2015.000000</td>\n",
       "      <td>25000.000000</td>\n",
       "      <td>7.275250e+04</td>\n",
       "    </tr>\n",
       "    <tr>\n",
       "      <th>75%</th>\n",
       "      <td>70000.000000</td>\n",
       "      <td>2017.000000</td>\n",
       "      <td>43000.000000</td>\n",
       "      <td>8.703150e+04</td>\n",
       "    </tr>\n",
       "    <tr>\n",
       "      <th>max</th>\n",
       "      <td>760000.000000</td>\n",
       "      <td>2020.000000</td>\n",
       "      <td>880000.000000</td>\n",
       "      <td>1.278000e+06</td>\n",
       "    </tr>\n",
       "  </tbody>\n",
       "</table>\n",
       "</div>"
      ],
      "text/plain": [
       "       Selling_Price         Year      KM_Driven  Ex_Showroom_Price\n",
       "count    1061.000000  1061.000000    1061.000000       6.260000e+02\n",
       "mean    59638.151744  2013.867107   34359.833176       8.795871e+04\n",
       "std     56304.291973     4.301191   51623.152702       7.749659e+04\n",
       "min      5000.000000  1988.000000     350.000000       3.049000e+04\n",
       "25%     28000.000000  2011.000000   13500.000000       5.485200e+04\n",
       "50%     45000.000000  2015.000000   25000.000000       7.275250e+04\n",
       "75%     70000.000000  2017.000000   43000.000000       8.703150e+04\n",
       "max    760000.000000  2020.000000  880000.000000       1.278000e+06"
      ]
     },
     "execution_count": 6,
     "metadata": {},
     "output_type": "execute_result"
    }
   ],
   "source": [
    "df.describe()"
   ]
  },
  {
   "cell_type": "markdown",
   "id": "1f8d67f9",
   "metadata": {},
   "source": [
    "# Analysis"
   ]
  },
  {
   "cell_type": "code",
   "execution_count": 7,
   "id": "3e27e9ef",
   "metadata": {},
   "outputs": [
    {
     "name": "stdout",
     "output_type": "stream",
     "text": [
      "<class 'pandas.core.frame.DataFrame'>\n",
      "RangeIndex: 1061 entries, 0 to 1060\n",
      "Data columns (total 8 columns):\n",
      " #   Column             Non-Null Count  Dtype  \n",
      "---  ------             --------------  -----  \n",
      " 0   Brand              1061 non-null   object \n",
      " 1   Model              1061 non-null   object \n",
      " 2   Selling_Price      1061 non-null   int64  \n",
      " 3   Year               1061 non-null   int64  \n",
      " 4   Seller_Type        1061 non-null   object \n",
      " 5   Owner              1061 non-null   object \n",
      " 6   KM_Driven          1061 non-null   int64  \n",
      " 7   Ex_Showroom_Price  626 non-null    float64\n",
      "dtypes: float64(1), int64(3), object(4)\n",
      "memory usage: 66.4+ KB\n"
     ]
    }
   ],
   "source": [
    "df.info()"
   ]
  },
  {
   "cell_type": "code",
   "execution_count": 8,
   "id": "82fc6659",
   "metadata": {},
   "outputs": [
    {
     "data": {
      "text/plain": [
       "Individual    1055\n",
       "Dealer           6\n",
       "Name: Seller_Type, dtype: int64"
      ]
     },
     "execution_count": 8,
     "metadata": {},
     "output_type": "execute_result"
    }
   ],
   "source": [
    "df['Seller_Type'].value_counts()"
   ]
  },
  {
   "cell_type": "code",
   "execution_count": 9,
   "id": "1762193a",
   "metadata": {},
   "outputs": [
    {
     "data": {
      "text/plain": [
       "1st owner    924\n",
       "2nd owner    123\n",
       "3rd owner     11\n",
       "4th owner      3\n",
       "Name: Owner, dtype: int64"
      ]
     },
     "execution_count": 9,
     "metadata": {},
     "output_type": "execute_result"
    }
   ],
   "source": [
    "df['Owner'].value_counts()"
   ]
  },
  {
   "cell_type": "code",
   "execution_count": 10,
   "id": "a2fbd08f",
   "metadata": {},
   "outputs": [],
   "source": [
    "df.replace({'Seller_Type':{'Individual':0,'Dealer':1}},inplace=True)"
   ]
  },
  {
   "cell_type": "code",
   "execution_count": 11,
   "id": "81d740b9",
   "metadata": {},
   "outputs": [],
   "source": [
    "df.replace({'Owner':{'1st owner':0,'2nd owner':1,'3rd owner':1,'4th owner':1}},inplace=True)"
   ]
  },
  {
   "cell_type": "code",
   "execution_count": 12,
   "id": "51f309cc",
   "metadata": {},
   "outputs": [
    {
     "data": {
      "text/html": [
       "<div>\n",
       "<style scoped>\n",
       "    .dataframe tbody tr th:only-of-type {\n",
       "        vertical-align: middle;\n",
       "    }\n",
       "\n",
       "    .dataframe tbody tr th {\n",
       "        vertical-align: top;\n",
       "    }\n",
       "\n",
       "    .dataframe thead th {\n",
       "        text-align: right;\n",
       "    }\n",
       "</style>\n",
       "<table border=\"1\" class=\"dataframe\">\n",
       "  <thead>\n",
       "    <tr style=\"text-align: right;\">\n",
       "      <th></th>\n",
       "      <th>Selling_Price</th>\n",
       "      <th>Year</th>\n",
       "      <th>Seller_Type</th>\n",
       "      <th>Owner</th>\n",
       "      <th>KM_Driven</th>\n",
       "      <th>Ex_Showroom_Price</th>\n",
       "    </tr>\n",
       "  </thead>\n",
       "  <tbody>\n",
       "    <tr>\n",
       "      <th>Selling_Price</th>\n",
       "      <td>1.000000</td>\n",
       "      <td>0.402188</td>\n",
       "      <td>-0.017382</td>\n",
       "      <td>-0.017751</td>\n",
       "      <td>-0.212937</td>\n",
       "      <td>0.918583</td>\n",
       "    </tr>\n",
       "    <tr>\n",
       "      <th>Year</th>\n",
       "      <td>0.402188</td>\n",
       "      <td>1.000000</td>\n",
       "      <td>-0.050293</td>\n",
       "      <td>-0.201224</td>\n",
       "      <td>-0.288675</td>\n",
       "      <td>0.126378</td>\n",
       "    </tr>\n",
       "    <tr>\n",
       "      <th>Seller_Type</th>\n",
       "      <td>-0.017382</td>\n",
       "      <td>-0.050293</td>\n",
       "      <td>1.000000</td>\n",
       "      <td>0.045925</td>\n",
       "      <td>0.001314</td>\n",
       "      <td>0.000517</td>\n",
       "    </tr>\n",
       "    <tr>\n",
       "      <th>Owner</th>\n",
       "      <td>-0.017751</td>\n",
       "      <td>-0.201224</td>\n",
       "      <td>0.045925</td>\n",
       "      <td>1.000000</td>\n",
       "      <td>0.077673</td>\n",
       "      <td>0.130877</td>\n",
       "    </tr>\n",
       "    <tr>\n",
       "      <th>KM_Driven</th>\n",
       "      <td>-0.212937</td>\n",
       "      <td>-0.288675</td>\n",
       "      <td>0.001314</td>\n",
       "      <td>0.077673</td>\n",
       "      <td>1.000000</td>\n",
       "      <td>-0.122011</td>\n",
       "    </tr>\n",
       "    <tr>\n",
       "      <th>Ex_Showroom_Price</th>\n",
       "      <td>0.918583</td>\n",
       "      <td>0.126378</td>\n",
       "      <td>0.000517</td>\n",
       "      <td>0.130877</td>\n",
       "      <td>-0.122011</td>\n",
       "      <td>1.000000</td>\n",
       "    </tr>\n",
       "  </tbody>\n",
       "</table>\n",
       "</div>"
      ],
      "text/plain": [
       "                   Selling_Price      Year  Seller_Type     Owner  KM_Driven  \\\n",
       "Selling_Price           1.000000  0.402188    -0.017382 -0.017751  -0.212937   \n",
       "Year                    0.402188  1.000000    -0.050293 -0.201224  -0.288675   \n",
       "Seller_Type            -0.017382 -0.050293     1.000000  0.045925   0.001314   \n",
       "Owner                  -0.017751 -0.201224     0.045925  1.000000   0.077673   \n",
       "KM_Driven              -0.212937 -0.288675     0.001314  0.077673   1.000000   \n",
       "Ex_Showroom_Price       0.918583  0.126378     0.000517  0.130877  -0.122011   \n",
       "\n",
       "                   Ex_Showroom_Price  \n",
       "Selling_Price               0.918583  \n",
       "Year                        0.126378  \n",
       "Seller_Type                 0.000517  \n",
       "Owner                       0.130877  \n",
       "KM_Driven                  -0.122011  \n",
       "Ex_Showroom_Price           1.000000  "
      ]
     },
     "execution_count": 12,
     "metadata": {},
     "output_type": "execute_result"
    }
   ],
   "source": [
    "df.corr()"
   ]
  },
  {
   "cell_type": "code",
   "execution_count": 13,
   "id": "362b8372",
   "metadata": {},
   "outputs": [],
   "source": [
    "df=df.dropna()"
   ]
  },
  {
   "cell_type": "code",
   "execution_count": 14,
   "id": "54121539",
   "metadata": {},
   "outputs": [
    {
     "data": {
      "text/html": [
       "<div>\n",
       "<style scoped>\n",
       "    .dataframe tbody tr th:only-of-type {\n",
       "        vertical-align: middle;\n",
       "    }\n",
       "\n",
       "    .dataframe tbody tr th {\n",
       "        vertical-align: top;\n",
       "    }\n",
       "\n",
       "    .dataframe thead th {\n",
       "        text-align: right;\n",
       "    }\n",
       "</style>\n",
       "<table border=\"1\" class=\"dataframe\">\n",
       "  <thead>\n",
       "    <tr style=\"text-align: right;\">\n",
       "      <th></th>\n",
       "      <th>Selling_Price</th>\n",
       "      <th>Year</th>\n",
       "      <th>Seller_Type</th>\n",
       "      <th>Owner</th>\n",
       "      <th>KM_Driven</th>\n",
       "      <th>Ex_Showroom_Price</th>\n",
       "    </tr>\n",
       "  </thead>\n",
       "  <tbody>\n",
       "    <tr>\n",
       "      <th>Selling_Price</th>\n",
       "      <td>1.000000</td>\n",
       "      <td>0.350654</td>\n",
       "      <td>0.004508</td>\n",
       "      <td>0.047706</td>\n",
       "      <td>-0.194093</td>\n",
       "      <td>0.918583</td>\n",
       "    </tr>\n",
       "    <tr>\n",
       "      <th>Year</th>\n",
       "      <td>0.350654</td>\n",
       "      <td>1.000000</td>\n",
       "      <td>0.012262</td>\n",
       "      <td>-0.136150</td>\n",
       "      <td>-0.329823</td>\n",
       "      <td>0.126378</td>\n",
       "    </tr>\n",
       "    <tr>\n",
       "      <th>Seller_Type</th>\n",
       "      <td>0.004508</td>\n",
       "      <td>0.012262</td>\n",
       "      <td>1.000000</td>\n",
       "      <td>-0.024622</td>\n",
       "      <td>-0.027825</td>\n",
       "      <td>0.000517</td>\n",
       "    </tr>\n",
       "    <tr>\n",
       "      <th>Owner</th>\n",
       "      <td>0.047706</td>\n",
       "      <td>-0.136150</td>\n",
       "      <td>-0.024622</td>\n",
       "      <td>1.000000</td>\n",
       "      <td>-0.024581</td>\n",
       "      <td>0.130877</td>\n",
       "    </tr>\n",
       "    <tr>\n",
       "      <th>KM_Driven</th>\n",
       "      <td>-0.194093</td>\n",
       "      <td>-0.329823</td>\n",
       "      <td>-0.027825</td>\n",
       "      <td>-0.024581</td>\n",
       "      <td>1.000000</td>\n",
       "      <td>-0.122011</td>\n",
       "    </tr>\n",
       "    <tr>\n",
       "      <th>Ex_Showroom_Price</th>\n",
       "      <td>0.918583</td>\n",
       "      <td>0.126378</td>\n",
       "      <td>0.000517</td>\n",
       "      <td>0.130877</td>\n",
       "      <td>-0.122011</td>\n",
       "      <td>1.000000</td>\n",
       "    </tr>\n",
       "  </tbody>\n",
       "</table>\n",
       "</div>"
      ],
      "text/plain": [
       "                   Selling_Price      Year  Seller_Type     Owner  KM_Driven  \\\n",
       "Selling_Price           1.000000  0.350654     0.004508  0.047706  -0.194093   \n",
       "Year                    0.350654  1.000000     0.012262 -0.136150  -0.329823   \n",
       "Seller_Type             0.004508  0.012262     1.000000 -0.024622  -0.027825   \n",
       "Owner                   0.047706 -0.136150    -0.024622  1.000000  -0.024581   \n",
       "KM_Driven              -0.194093 -0.329823    -0.027825 -0.024581   1.000000   \n",
       "Ex_Showroom_Price       0.918583  0.126378     0.000517  0.130877  -0.122011   \n",
       "\n",
       "                   Ex_Showroom_Price  \n",
       "Selling_Price               0.918583  \n",
       "Year                        0.126378  \n",
       "Seller_Type                 0.000517  \n",
       "Owner                       0.130877  \n",
       "KM_Driven                  -0.122011  \n",
       "Ex_Showroom_Price           1.000000  "
      ]
     },
     "execution_count": 14,
     "metadata": {},
     "output_type": "execute_result"
    }
   ],
   "source": [
    "df.corr()"
   ]
  },
  {
   "cell_type": "code",
   "execution_count": 15,
   "id": "79cb1156",
   "metadata": {},
   "outputs": [
    {
     "name": "stdout",
     "output_type": "stream",
     "text": [
      "<class 'pandas.core.frame.DataFrame'>\n",
      "Int64Index: 626 entries, 0 to 625\n",
      "Data columns (total 8 columns):\n",
      " #   Column             Non-Null Count  Dtype  \n",
      "---  ------             --------------  -----  \n",
      " 0   Brand              626 non-null    object \n",
      " 1   Model              626 non-null    object \n",
      " 2   Selling_Price      626 non-null    int64  \n",
      " 3   Year               626 non-null    int64  \n",
      " 4   Seller_Type        626 non-null    int64  \n",
      " 5   Owner              626 non-null    int64  \n",
      " 6   KM_Driven          626 non-null    int64  \n",
      " 7   Ex_Showroom_Price  626 non-null    float64\n",
      "dtypes: float64(1), int64(5), object(2)\n",
      "memory usage: 44.0+ KB\n"
     ]
    }
   ],
   "source": [
    "df.info()"
   ]
  },
  {
   "cell_type": "code",
   "execution_count": 16,
   "id": "dd186292",
   "metadata": {},
   "outputs": [
    {
     "data": {
      "text/plain": [
       "<seaborn.axisgrid.PairGrid at 0x27bd83eadf0>"
      ]
     },
     "execution_count": 16,
     "metadata": {},
     "output_type": "execute_result"
    },
    {
     "data": {
      "image/png": "[encoded data removed]",
      "text/plain": [
       "<Figure size 900x180 with 5 Axes>"
      ]
     },
     "metadata": {
      "needs_background": "light"
     },
     "output_type": "display_data"
    }
   ],
   "source": [
    "sns.pairplot(df,y_vars='Selling_Price',x_vars=['Year','Seller_Type','Owner','KM_Driven','Ex_Showroom_Price'])"
   ]
  },
  {
   "cell_type": "markdown",
   "id": "0d11ca9a",
   "metadata": {},
   "source": [
    "# Train,Test,split"
   ]
  },
  {
   "cell_type": "code",
   "execution_count": 17,
   "id": "5b4f091c",
   "metadata": {},
   "outputs": [],
   "source": [
    "X=df.drop(['Brand','Model','Selling_Price'],axis=1)"
   ]
  },
  {
   "cell_type": "code",
   "execution_count": 18,
   "id": "209b6f55",
   "metadata": {},
   "outputs": [],
   "source": [
    "y=df['Selling_Price']"
   ]
  },
  {
   "cell_type": "code",
   "execution_count": 19,
   "id": "2922b735",
   "metadata": {},
   "outputs": [],
   "source": [
    "from sklearn.model_selection import train_test_split"
   ]
  },
  {
   "cell_type": "code",
   "execution_count": 20,
   "id": "9543d87e",
   "metadata": {},
   "outputs": [],
   "source": [
    "X_train,X_test,y_train,y_test= train_test_split(X,y,train_size=0.7,test_size=0.3)"
   ]
  },
  {
   "cell_type": "code",
   "execution_count": 21,
   "id": "e6219eae",
   "metadata": {},
   "outputs": [
    {
     "data": {
      "text/plain": [
       "((438, 5), (188, 5), (438,), (188,))"
      ]
     },
     "execution_count": 21,
     "metadata": {},
     "output_type": "execute_result"
    }
   ],
   "source": [
    "X_train.shape,X_test.shape,y_train.shape,y_test.shape"
   ]
  },
  {
   "cell_type": "code",
   "execution_count": 22,
   "id": "2cf4e9b0",
   "metadata": {},
   "outputs": [],
   "source": [
    "from sklearn.preprocessing import StandardScaler"
   ]
  },
  {
   "cell_type": "code",
   "execution_count": 23,
   "id": "f9a7ec94",
   "metadata": {},
   "outputs": [],
   "source": [
    "ss = StandardScaler()"
   ]
  },
  {
   "cell_type": "code",
   "execution_count": 24,
   "id": "4edd1eb4",
   "metadata": {},
   "outputs": [],
   "source": [
    "X_train = ss.fit_transform(X_train)"
   ]
  },
  {
   "cell_type": "code",
   "execution_count": 25,
   "id": "3d38136b",
   "metadata": {},
   "outputs": [],
   "source": [
    "X_test = ss.fit_transform(X_test)"
   ]
  },
  {
   "cell_type": "code",
   "execution_count": 26,
   "id": "ef601302",
   "metadata": {
    "scrolled": false
   },
   "outputs": [
    {
     "data": {
      "text/html": [
       "<div>\n",
       "<style scoped>\n",
       "    .dataframe tbody tr th:only-of-type {\n",
       "        vertical-align: middle;\n",
       "    }\n",
       "\n",
       "    .dataframe tbody tr th {\n",
       "        vertical-align: top;\n",
       "    }\n",
       "\n",
       "    .dataframe thead th {\n",
       "        text-align: right;\n",
       "    }\n",
       "</style>\n",
       "<table border=\"1\" class=\"dataframe\">\n",
       "  <thead>\n",
       "    <tr style=\"text-align: right;\">\n",
       "      <th></th>\n",
       "      <th>0</th>\n",
       "      <th>1</th>\n",
       "      <th>2</th>\n",
       "      <th>3</th>\n",
       "      <th>4</th>\n",
       "    </tr>\n",
       "  </thead>\n",
       "  <tbody>\n",
       "    <tr>\n",
       "      <th>count</th>\n",
       "      <td>4.380000e+02</td>\n",
       "      <td>4.380000e+02</td>\n",
       "      <td>4.380000e+02</td>\n",
       "      <td>4.380000e+02</td>\n",
       "      <td>4.380000e+02</td>\n",
       "    </tr>\n",
       "    <tr>\n",
       "      <th>mean</th>\n",
       "      <td>2.614651e-14</td>\n",
       "      <td>8.111218e-17</td>\n",
       "      <td>4.866731e-17</td>\n",
       "      <td>8.111218e-17</td>\n",
       "      <td>4.055609e-18</td>\n",
       "    </tr>\n",
       "    <tr>\n",
       "      <th>std</th>\n",
       "      <td>1.001144e+00</td>\n",
       "      <td>1.001144e+00</td>\n",
       "      <td>1.001144e+00</td>\n",
       "      <td>1.001144e+00</td>\n",
       "      <td>1.001144e+00</td>\n",
       "    </tr>\n",
       "    <tr>\n",
       "      <th>min</th>\n",
       "      <td>-3.604531e+00</td>\n",
       "      <td>-8.304548e-02</td>\n",
       "      <td>-3.549141e-01</td>\n",
       "      <td>-6.567560e-01</td>\n",
       "      <td>-6.896750e-01</td>\n",
       "    </tr>\n",
       "    <tr>\n",
       "      <th>25%</th>\n",
       "      <td>-5.838972e-01</td>\n",
       "      <td>-8.304548e-02</td>\n",
       "      <td>-3.549141e-01</td>\n",
       "      <td>-4.061587e-01</td>\n",
       "      <td>-3.985751e-01</td>\n",
       "    </tr>\n",
       "    <tr>\n",
       "      <th>50%</th>\n",
       "      <td>8.735471e-02</td>\n",
       "      <td>-8.304548e-02</td>\n",
       "      <td>-3.549141e-01</td>\n",
       "      <td>-1.782988e-01</td>\n",
       "      <td>-2.217139e-01</td>\n",
       "    </tr>\n",
       "    <tr>\n",
       "      <th>75%</th>\n",
       "      <td>7.586067e-01</td>\n",
       "      <td>-8.304548e-02</td>\n",
       "      <td>-3.549141e-01</td>\n",
       "      <td>1.132064e-01</td>\n",
       "      <td>-1.439507e-02</td>\n",
       "    </tr>\n",
       "    <tr>\n",
       "      <th>max</th>\n",
       "      <td>1.765485e+00</td>\n",
       "      <td>1.204159e+01</td>\n",
       "      <td>2.817583e+00</td>\n",
       "      <td>1.071737e+01</td>\n",
       "      <td>1.518248e+01</td>\n",
       "    </tr>\n",
       "  </tbody>\n",
       "</table>\n",
       "</div>"
      ],
      "text/plain": [
       "                  0             1             2             3             4\n",
       "count  4.380000e+02  4.380000e+02  4.380000e+02  4.380000e+02  4.380000e+02\n",
       "mean   2.614651e-14  8.111218e-17  4.866731e-17  8.111218e-17  4.055609e-18\n",
       "std    1.001144e+00  1.001144e+00  1.001144e+00  1.001144e+00  1.001144e+00\n",
       "min   -3.604531e+00 -8.304548e-02 -3.549141e-01 -6.567560e-01 -6.896750e-01\n",
       "25%   -5.838972e-01 -8.304548e-02 -3.549141e-01 -4.061587e-01 -3.985751e-01\n",
       "50%    8.735471e-02 -8.304548e-02 -3.549141e-01 -1.782988e-01 -2.217139e-01\n",
       "75%    7.586067e-01 -8.304548e-02 -3.549141e-01  1.132064e-01 -1.439507e-02\n",
       "max    1.765485e+00  1.204159e+01  2.817583e+00  1.071737e+01  1.518248e+01"
      ]
     },
     "execution_count": 26,
     "metadata": {},
     "output_type": "execute_result"
    }
   ],
   "source": [
    "pd.DataFrame(X_train).describe()"
   ]
  },
  {
   "cell_type": "markdown",
   "id": "9fa4b691",
   "metadata": {},
   "source": [
    "# Linear regression"
   ]
  },
  {
   "cell_type": "code",
   "execution_count": 27,
   "id": "fb35a0e3",
   "metadata": {},
   "outputs": [],
   "source": [
    "from sklearn.linear_model import LinearRegression"
   ]
  },
  {
   "cell_type": "code",
   "execution_count": 28,
   "id": "8bdd95f2",
   "metadata": {},
   "outputs": [],
   "source": [
    "lr=LinearRegression()"
   ]
  },
  {
   "cell_type": "code",
   "execution_count": 29,
   "id": "56868f1c",
   "metadata": {},
   "outputs": [
    {
     "data": {
      "text/plain": [
       "LinearRegression()"
      ]
     },
     "execution_count": 29,
     "metadata": {},
     "output_type": "execute_result"
    }
   ],
   "source": [
    "lr.fit(X_train,y_train)"
   ]
  },
  {
   "cell_type": "code",
   "execution_count": 30,
   "id": "54ce48b5",
   "metadata": {},
   "outputs": [
    {
     "data": {
      "text/plain": [
       "57269.80136986265"
      ]
     },
     "execution_count": 30,
     "metadata": {},
     "output_type": "execute_result"
    }
   ],
   "source": [
    "lr.intercept_"
   ]
  },
  {
   "cell_type": "code",
   "execution_count": 31,
   "id": "cd3b4bfa",
   "metadata": {},
   "outputs": [],
   "source": [
    "y_pred = lr.predict(X_test)"
   ]
  },
  {
   "cell_type": "markdown",
   "id": "31ce57ae",
   "metadata": {},
   "source": [
    "# Model Accuracy"
   ]
  },
  {
   "cell_type": "code",
   "execution_count": 32,
   "id": "8eee00bc",
   "metadata": {},
   "outputs": [],
   "source": [
    "from sklearn.metrics import r2_score, mean_absolute_error,mean_absolute_percentage_error"
   ]
  },
  {
   "cell_type": "code",
   "execution_count": 33,
   "id": "1d16cb62",
   "metadata": {},
   "outputs": [
    {
     "data": {
      "text/plain": [
       "0.8831065737836372"
      ]
     },
     "execution_count": 33,
     "metadata": {},
     "output_type": "execute_result"
    }
   ],
   "source": [
    "r2_score(y_test,y_pred)"
   ]
  },
  {
   "cell_type": "code",
   "execution_count": 34,
   "id": "82b81130",
   "metadata": {},
   "outputs": [
    {
     "data": {
      "text/plain": [
       "12789.987935008481"
      ]
     },
     "execution_count": 34,
     "metadata": {},
     "output_type": "execute_result"
    }
   ],
   "source": [
    "mean_absolute_error(y_test,y_pred)"
   ]
  },
  {
   "cell_type": "code",
   "execution_count": 35,
   "id": "b8b1a6d5",
   "metadata": {},
   "outputs": [
    {
     "data": {
      "text/plain": [
       "0.2490043109240438"
      ]
     },
     "execution_count": 35,
     "metadata": {},
     "output_type": "execute_result"
    }
   ],
   "source": [
    "mean_absolute_percentage_error(y_test,y_pred)"
   ]
  },
  {
   "cell_type": "markdown",
   "id": "9806a311",
   "metadata": {},
   "source": [
    "# Visualization and Result"
   ]
  },
  {
   "cell_type": "code",
   "execution_count": 37,
   "id": "b3e63f1c",
   "metadata": {},
   "outputs": [
    {
     "data": {
      "image/png": "[encoded data removed]",
      "text/plain": [
       "<Figure size 432x288 with 1 Axes>"
      ]
     },
     "metadata": {
      "needs_background": "light"
     },
     "output_type": "display_data"
    }
   ],
   "source": [
    "plt.scatter(y_test,y_pred)\n",
    "plt.xlabel('Actual Prices')\n",
    "plt.ylabel('Predicted Prices')\n",
    "plt.title('Actual vs Predicted')\n",
    "plt.show()"
   ]
  },
  {
   "cell_type": "code",
   "execution_count": null,
   "id": "610dd53d",
   "metadata": {},
   "outputs": [],
   "source": []
  }
 ],
 "metadata": {
  "kernelspec": {
   "display_name": "Python 3 (ipykernel)",
   "language": "python",
   "name": "python3"
  },
  "language_info": {
   "codemirror_mode": {
    "name": "ipython",
    "version": 3
   },
   "file_extension": ".py",
   "mimetype": "text/x-python",
   "name": "python",
   "nbconvert_exporter": "python",
   "pygments_lexer": "ipython3",
   "version": "3.9.7"
  }
 },
 "nbformat": 4,
 "nbformat_minor": 5
}
