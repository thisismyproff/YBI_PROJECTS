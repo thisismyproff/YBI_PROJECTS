{
 "cells": [
  {
   "cell_type": "markdown",
   "id": "dca071a5",
   "metadata": {},
   "source": [
    "# Importing Libraries"
   ]
  },
  {
   "cell_type": "code",
   "execution_count": 1,
   "id": "9355a673",
   "metadata": {},
   "outputs": [],
   "source": [
    "import pandas as pd\n",
    "import numpy as np\n",
    "import matplotlib.pyplot as plt"
   ]
  },
  {
   "cell_type": "markdown",
   "id": "65524c24",
   "metadata": {},
   "source": [
    "# Importing Data"
   ]
  },
  {
   "cell_type": "code",
   "execution_count": 2,
   "id": "126c195f",
   "metadata": {},
   "outputs": [],
   "source": [
    "from sklearn.datasets import load_digits"
   ]
  },
  {
   "cell_type": "code",
   "execution_count": 3,
   "id": "003130af",
   "metadata": {},
   "outputs": [],
   "source": [
    "df = load_digits()"
   ]
  },
  {
   "cell_type": "code",
   "execution_count": 26,
   "id": "e16dc8c4",
   "metadata": {},
   "outputs": [
    {
     "data": {
      "text/plain": [
       "array([0, 1, 2, ..., 8, 9, 8])"
      ]
     },
     "execution_count": 26,
     "metadata": {},
     "output_type": "execute_result"
    }
   ],
   "source": [
    "df.target\n"
   ]
  },
  {
   "cell_type": "markdown",
   "id": "e1e09d55",
   "metadata": {},
   "source": [
    "# Data preprocessing"
   ]
  },
  {
   "cell_type": "code",
   "execution_count": 9,
   "id": "e62c8c6b",
   "metadata": {},
   "outputs": [
    {
     "data": {
      "text/plain": [
       "(1797, 8, 8)"
      ]
     },
     "execution_count": 9,
     "metadata": {},
     "output_type": "execute_result"
    }
   ],
   "source": [
    "df.images.shape"
   ]
  },
  {
   "cell_type": "code",
   "execution_count": 11,
   "id": "0aae41fe",
   "metadata": {},
   "outputs": [
    {
     "data": {
      "text/plain": [
       "(8, 8)"
      ]
     },
     "execution_count": 11,
     "metadata": {},
     "output_type": "execute_result"
    }
   ],
   "source": [
    "df.images[0].shape"
   ]
  },
  {
   "cell_type": "code",
   "execution_count": 13,
   "id": "2f042829",
   "metadata": {},
   "outputs": [],
   "source": [
    "n_samples = len(df.images)"
   ]
  },
  {
   "cell_type": "code",
   "execution_count": 15,
   "id": "2992f8fd",
   "metadata": {},
   "outputs": [],
   "source": [
    "data = df.images.reshape(n_samples, -1)"
   ]
  },
  {
   "cell_type": "code",
   "execution_count": 16,
   "id": "a04e6e82",
   "metadata": {},
   "outputs": [
    {
     "data": {
      "text/plain": [
       "(1797, 64)"
      ]
     },
     "execution_count": 16,
     "metadata": {},
     "output_type": "execute_result"
    }
   ],
   "source": [
    "data.shape"
   ]
  },
  {
   "cell_type": "markdown",
   "id": "8798b91a",
   "metadata": {},
   "source": [
    "# Scaling data"
   ]
  },
  {
   "cell_type": "code",
   "execution_count": 18,
   "id": "a956a8b3",
   "metadata": {},
   "outputs": [
    {
     "data": {
      "text/plain": [
       "0.0"
      ]
     },
     "execution_count": 18,
     "metadata": {},
     "output_type": "execute_result"
    }
   ],
   "source": [
    "data.min()"
   ]
  },
  {
   "cell_type": "code",
   "execution_count": 19,
   "id": "a25d8e60",
   "metadata": {},
   "outputs": [
    {
     "data": {
      "text/plain": [
       "16.0"
      ]
     },
     "execution_count": 19,
     "metadata": {},
     "output_type": "execute_result"
    }
   ],
   "source": [
    "data.max()"
   ]
  },
  {
   "cell_type": "code",
   "execution_count": 20,
   "id": "66b4545b",
   "metadata": {},
   "outputs": [],
   "source": [
    "data = data/16"
   ]
  },
  {
   "cell_type": "code",
   "execution_count": 21,
   "id": "f15db7e5",
   "metadata": {},
   "outputs": [
    {
     "data": {
      "text/plain": [
       "0.0"
      ]
     },
     "execution_count": 21,
     "metadata": {},
     "output_type": "execute_result"
    }
   ],
   "source": [
    "data.min()"
   ]
  },
  {
   "cell_type": "code",
   "execution_count": 22,
   "id": "f5decebd",
   "metadata": {},
   "outputs": [
    {
     "data": {
      "text/plain": [
       "1.0"
      ]
     },
     "execution_count": 22,
     "metadata": {},
     "output_type": "execute_result"
    }
   ],
   "source": [
    "data.max()"
   ]
  },
  {
   "cell_type": "code",
   "execution_count": 23,
   "id": "4b82b685",
   "metadata": {
    "scrolled": true
   },
   "outputs": [
    {
     "data": {
      "text/plain": [
       "array([[0.    , 0.    , 0.3125, ..., 0.    , 0.    , 0.    ],\n",
       "       [0.    , 0.    , 0.    , ..., 0.625 , 0.    , 0.    ],\n",
       "       [0.    , 0.    , 0.    , ..., 1.    , 0.5625, 0.    ],\n",
       "       ...,\n",
       "       [0.    , 0.    , 0.0625, ..., 0.375 , 0.    , 0.    ],\n",
       "       [0.    , 0.    , 0.125 , ..., 0.75  , 0.    , 0.    ],\n",
       "       [0.    , 0.    , 0.625 , ..., 0.75  , 0.0625, 0.    ]])"
      ]
     },
     "execution_count": 23,
     "metadata": {},
     "output_type": "execute_result"
    }
   ],
   "source": [
    "data"
   ]
  },
  {
   "cell_type": "markdown",
   "id": "021930cf",
   "metadata": {},
   "source": [
    "# Train Test split"
   ]
  },
  {
   "cell_type": "code",
   "execution_count": 24,
   "id": "567eadf2",
   "metadata": {},
   "outputs": [],
   "source": [
    "from sklearn.model_selection import train_test_split"
   ]
  },
  {
   "cell_type": "code",
   "execution_count": 27,
   "id": "69136be5",
   "metadata": {},
   "outputs": [],
   "source": [
    "X_train,X_test,y_train,y_test = train_test_split(data,df.target,train_size=0.7,test_size=0.3)"
   ]
  },
  {
   "cell_type": "code",
   "execution_count": 28,
   "id": "8ddfaeea",
   "metadata": {},
   "outputs": [
    {
     "data": {
      "text/plain": [
       "((1257, 64), (540, 64), (1257,), (540,))"
      ]
     },
     "execution_count": 28,
     "metadata": {},
     "output_type": "execute_result"
    }
   ],
   "source": [
    "X_train.shape,X_test.shape,y_train.shape,y_test.shape"
   ]
  },
  {
   "cell_type": "markdown",
   "id": "6c781425",
   "metadata": {},
   "source": [
    "# Random Forest Model"
   ]
  },
  {
   "cell_type": "code",
   "execution_count": 29,
   "id": "99c15cbc",
   "metadata": {},
   "outputs": [],
   "source": [
    "from sklearn.ensemble import RandomForestClassifier"
   ]
  },
  {
   "cell_type": "code",
   "execution_count": 30,
   "id": "3105db26",
   "metadata": {},
   "outputs": [],
   "source": [
    "rf = RandomForestClassifier()"
   ]
  },
  {
   "cell_type": "code",
   "execution_count": 31,
   "id": "4b5fb53f",
   "metadata": {},
   "outputs": [
    {
     "data": {
      "text/plain": [
       "RandomForestClassifier()"
      ]
     },
     "execution_count": 31,
     "metadata": {},
     "output_type": "execute_result"
    }
   ],
   "source": [
    "rf.fit(X_train,y_train) "
   ]
  },
  {
   "cell_type": "markdown",
   "id": "0d58915a",
   "metadata": {},
   "source": [
    "# Predict Test Data "
   ]
  },
  {
   "cell_type": "code",
   "execution_count": 32,
   "id": "aa17fc44",
   "metadata": {},
   "outputs": [],
   "source": [
    "y_pred = rf.predict(X_test)"
   ]
  },
  {
   "cell_type": "code",
   "execution_count": 33,
   "id": "203c7fd3",
   "metadata": {},
   "outputs": [
    {
     "data": {
      "text/plain": [
       "array([7, 3, 9, 9, 9, 8, 2, 9, 5, 7, 4, 6, 6, 4, 7, 7, 8, 4, 2, 1, 3, 7,\n",
       "       6, 6, 1, 3, 3, 8, 5, 8, 5, 0, 2, 0, 6, 4, 2, 9, 5, 1, 4, 2, 3, 7,\n",
       "       9, 1, 8, 0, 7, 1, 9, 6, 0, 0, 4, 6, 7, 6, 1, 8, 8, 9, 7, 0, 9, 5,\n",
       "       5, 5, 2, 7, 9, 6, 4, 1, 2, 2, 9, 2, 4, 1, 7, 3, 8, 9, 7, 6, 2, 6,\n",
       "       3, 4, 8, 3, 2, 3, 4, 2, 8, 0, 1, 3, 0, 8, 5, 2, 8, 0, 9, 6, 1, 0,\n",
       "       6, 7, 3, 2, 8, 0, 7, 3, 5, 1, 5, 4, 8, 0, 4, 9, 8, 0, 3, 8, 6, 3,\n",
       "       0, 7, 1, 5, 3, 4, 4, 9, 4, 8, 0, 8, 3, 4, 0, 4, 6, 1, 5, 6, 9, 0,\n",
       "       8, 8, 6, 4, 7, 7, 8, 2, 3, 1, 3, 6, 1, 1, 9, 3, 6, 3, 3, 8, 7, 8,\n",
       "       3, 1, 9, 8, 3, 1, 4, 3, 1, 1, 0, 4, 0, 1, 6, 6, 2, 0, 6, 6, 4, 3,\n",
       "       3, 8, 5, 1, 5, 5, 0, 8, 6, 5, 7, 9, 7, 4, 5, 5, 7, 8, 8, 1, 9, 4,\n",
       "       9, 8, 2, 3, 3, 3, 7, 3, 4, 0, 1, 7, 7, 6, 2, 0, 4, 3, 8, 0, 7, 8,\n",
       "       8, 4, 4, 7, 8, 4, 2, 6, 0, 4, 7, 5, 3, 4, 1, 5, 5, 3, 2, 2, 7, 5,\n",
       "       2, 6, 4, 8, 7, 1, 8, 5, 1, 5, 6, 0, 5, 4, 0, 4, 1, 4, 0, 2, 1, 1,\n",
       "       9, 7, 0, 9, 5, 9, 4, 7, 6, 0, 1, 0, 4, 1, 2, 1, 5, 3, 2, 0, 1, 9,\n",
       "       7, 4, 0, 3, 5, 2, 8, 0, 4, 6, 1, 8, 5, 5, 9, 1, 3, 5, 4, 3, 4, 1,\n",
       "       5, 7, 3, 4, 9, 5, 2, 6, 9, 3, 0, 1, 9, 1, 3, 0, 7, 7, 7, 5, 9, 0,\n",
       "       9, 3, 9, 8, 9, 2, 9, 9, 7, 0, 8, 2, 9, 7, 3, 9, 5, 4, 2, 8, 0, 5,\n",
       "       0, 7, 5, 6, 3, 0, 1, 8, 2, 3, 2, 4, 0, 8, 1, 4, 2, 2, 7, 6, 2, 3,\n",
       "       0, 8, 9, 9, 6, 4, 1, 3, 2, 5, 0, 0, 3, 6, 6, 7, 6, 0, 8, 2, 6, 3,\n",
       "       7, 8, 7, 9, 8, 1, 7, 5, 9, 9, 9, 2, 7, 5, 7, 3, 0, 3, 4, 0, 3, 3,\n",
       "       0, 2, 3, 6, 5, 7, 1, 3, 9, 2, 0, 7, 6, 3, 0, 6, 7, 6, 9, 5, 6, 6,\n",
       "       2, 0, 8, 8, 3, 1, 1, 9, 1, 3, 6, 7, 6, 8, 2, 2, 8, 7, 6, 1, 4, 3,\n",
       "       9, 1, 5, 1, 4, 6, 5, 2, 1, 8, 2, 0, 5, 3, 5, 4, 8, 1, 3, 6, 0, 3,\n",
       "       4, 8, 3, 9, 5, 5, 3, 1, 6, 9, 4, 9, 9, 4, 9, 4, 2, 8, 0, 8, 0, 5,\n",
       "       7, 6, 6, 9, 5, 7, 2, 3, 3, 5, 2, 6])"
      ]
     },
     "execution_count": 33,
     "metadata": {},
     "output_type": "execute_result"
    }
   ],
   "source": [
    "y_pred"
   ]
  },
  {
   "cell_type": "markdown",
   "id": "36ebf899",
   "metadata": {},
   "source": [
    "# Model Accuracy"
   ]
  },
  {
   "cell_type": "code",
   "execution_count": 39,
   "id": "b8037bd2",
   "metadata": {},
   "outputs": [],
   "source": [
    "from sklearn.metrics import mean_absolute_error , mean_absolute_percentage_error , r2_score , confusion_matrix , classification_report"
   ]
  },
  {
   "cell_type": "code",
   "execution_count": 36,
   "id": "4990aaef",
   "metadata": {},
   "outputs": [
    {
     "data": {
      "text/plain": [
       "0.046296296296296294"
      ]
     },
     "execution_count": 36,
     "metadata": {},
     "output_type": "execute_result"
    }
   ],
   "source": [
    "mean_absolute_error(y_test,y_pred)"
   ]
  },
  {
   "cell_type": "code",
   "execution_count": 37,
   "id": "f37569fe",
   "metadata": {},
   "outputs": [
    {
     "data": {
      "text/plain": [
       "33359997239781.453"
      ]
     },
     "execution_count": 37,
     "metadata": {},
     "output_type": "execute_result"
    }
   ],
   "source": [
    "mean_absolute_percentage_error(y_test,y_pred)"
   ]
  },
  {
   "cell_type": "code",
   "execution_count": 38,
   "id": "156b6ce0",
   "metadata": {},
   "outputs": [
    {
     "data": {
      "text/plain": [
       "0.9796432388543211"
      ]
     },
     "execution_count": 38,
     "metadata": {},
     "output_type": "execute_result"
    }
   ],
   "source": [
    "r2_score(y_test,y_pred)"
   ]
  },
  {
   "cell_type": "code",
   "execution_count": 40,
   "id": "d4ff88b2",
   "metadata": {},
   "outputs": [
    {
     "data": {
      "text/plain": [
       "array([[56,  0,  0,  0,  1,  0,  0,  0,  0,  0],\n",
       "       [ 0, 52,  0,  0,  0,  0,  0,  0,  0,  0],\n",
       "       [ 0,  1, 48,  0,  0,  0,  0,  0,  0,  0],\n",
       "       [ 0,  0,  0, 65,  0,  0,  0,  0,  1,  0],\n",
       "       [ 0,  0,  0,  0, 52,  0,  0,  0,  0,  1],\n",
       "       [ 0,  0,  0,  0,  0, 49,  0,  0,  0,  0],\n",
       "       [ 0,  0,  0,  0,  0,  1, 53,  0,  1,  0],\n",
       "       [ 0,  0,  0,  0,  0,  0,  0, 52,  0,  0],\n",
       "       [ 0,  0,  0,  0,  0,  0,  0,  1, 51,  0],\n",
       "       [ 0,  0,  0,  0,  0,  1,  0,  0,  2, 52]], dtype=int64)"
      ]
     },
     "execution_count": 40,
     "metadata": {},
     "output_type": "execute_result"
    }
   ],
   "source": [
    "confusion_matrix(y_test,y_pred)"
   ]
  },
  {
   "cell_type": "code",
   "execution_count": null,
   "id": "669a5d34",
   "metadata": {},
   "outputs": [],
   "source": []
  }
 ],
 "metadata": {
  "kernelspec": {
   "display_name": "Python 3 (ipykernel)",
   "language": "python",
   "name": "python3"
  },
  "language_info": {
   "codemirror_mode": {
    "name": "ipython",
    "version": 3
   },
   "file_extension": ".py",
   "mimetype": "text/x-python",
   "name": "python",
   "nbconvert_exporter": "python",
   "pygments_lexer": "ipython3",
   "version": "3.9.7"
  }
 },
 "nbformat": 4,
 "nbformat_minor": 5
}
