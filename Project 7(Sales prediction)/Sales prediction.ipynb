{
 "cells": [
  {
   "cell_type": "markdown",
   "id": "76f581c5",
   "metadata": {},
   "source": [
    "# Importing libraries and data"
   ]
  },
  {
   "cell_type": "code",
   "execution_count": 2,
   "id": "776e29a6",
   "metadata": {},
   "outputs": [],
   "source": [
    "import pandas as pd\n",
    "import seaborn as sns\n",
    "import numpy as np\n",
    "import matplotlib.pyplot as plt"
   ]
  },
  {
   "cell_type": "code",
   "execution_count": 3,
   "id": "a6fbfa5e",
   "metadata": {},
   "outputs": [],
   "source": [
    "df = pd.read_csv('Big Sales Data.csv')"
   ]
  },
  {
   "cell_type": "code",
   "execution_count": 4,
   "id": "35ddd754",
   "metadata": {},
   "outputs": [
    {
     "data": {
      "text/html": [
       "<div>\n",
       "<style scoped>\n",
       "    .dataframe tbody tr th:only-of-type {\n",
       "        vertical-align: middle;\n",
       "    }\n",
       "\n",
       "    .dataframe tbody tr th {\n",
       "        vertical-align: top;\n",
       "    }\n",
       "\n",
       "    .dataframe thead th {\n",
       "        text-align: right;\n",
       "    }\n",
       "</style>\n",
       "<table border=\"1\" class=\"dataframe\">\n",
       "  <thead>\n",
       "    <tr style=\"text-align: right;\">\n",
       "      <th></th>\n",
       "      <th>Item_Identifier</th>\n",
       "      <th>Item_Weight</th>\n",
       "      <th>Item_Fat_Content</th>\n",
       "      <th>Item_Visibility</th>\n",
       "      <th>Item_Type</th>\n",
       "      <th>Item_MRP</th>\n",
       "      <th>Outlet_Identifier</th>\n",
       "      <th>Outlet_Establishment_Year</th>\n",
       "      <th>Outlet_Size</th>\n",
       "      <th>Outlet_Location_Type</th>\n",
       "      <th>Outlet_Type</th>\n",
       "      <th>Item_Outlet_Sales</th>\n",
       "    </tr>\n",
       "  </thead>\n",
       "  <tbody>\n",
       "    <tr>\n",
       "      <th>0</th>\n",
       "      <td>FDT36</td>\n",
       "      <td>12.3</td>\n",
       "      <td>Low Fat</td>\n",
       "      <td>0.111448</td>\n",
       "      <td>Baking Goods</td>\n",
       "      <td>33.4874</td>\n",
       "      <td>OUT049</td>\n",
       "      <td>1999</td>\n",
       "      <td>Medium</td>\n",
       "      <td>Tier 1</td>\n",
       "      <td>Supermarket Type1</td>\n",
       "      <td>436.608721</td>\n",
       "    </tr>\n",
       "    <tr>\n",
       "      <th>1</th>\n",
       "      <td>FDT36</td>\n",
       "      <td>12.3</td>\n",
       "      <td>Low Fat</td>\n",
       "      <td>0.111904</td>\n",
       "      <td>Baking Goods</td>\n",
       "      <td>33.9874</td>\n",
       "      <td>OUT017</td>\n",
       "      <td>2007</td>\n",
       "      <td>Medium</td>\n",
       "      <td>Tier 2</td>\n",
       "      <td>Supermarket Type1</td>\n",
       "      <td>443.127721</td>\n",
       "    </tr>\n",
       "    <tr>\n",
       "      <th>2</th>\n",
       "      <td>FDT36</td>\n",
       "      <td>12.3</td>\n",
       "      <td>LF</td>\n",
       "      <td>0.111728</td>\n",
       "      <td>Baking Goods</td>\n",
       "      <td>33.9874</td>\n",
       "      <td>OUT018</td>\n",
       "      <td>2009</td>\n",
       "      <td>Medium</td>\n",
       "      <td>Tier 3</td>\n",
       "      <td>Supermarket Type2</td>\n",
       "      <td>564.598400</td>\n",
       "    </tr>\n",
       "    <tr>\n",
       "      <th>3</th>\n",
       "      <td>FDT36</td>\n",
       "      <td>12.3</td>\n",
       "      <td>Low Fat</td>\n",
       "      <td>0.000000</td>\n",
       "      <td>Baking Goods</td>\n",
       "      <td>34.3874</td>\n",
       "      <td>OUT019</td>\n",
       "      <td>1985</td>\n",
       "      <td>Small</td>\n",
       "      <td>Tier 1</td>\n",
       "      <td>Grocery Store</td>\n",
       "      <td>1719.370000</td>\n",
       "    </tr>\n",
       "    <tr>\n",
       "      <th>4</th>\n",
       "      <td>FDP12</td>\n",
       "      <td>9.8</td>\n",
       "      <td>Regular</td>\n",
       "      <td>0.045523</td>\n",
       "      <td>Baking Goods</td>\n",
       "      <td>35.0874</td>\n",
       "      <td>OUT017</td>\n",
       "      <td>2007</td>\n",
       "      <td>Medium</td>\n",
       "      <td>Tier 2</td>\n",
       "      <td>Supermarket Type1</td>\n",
       "      <td>352.874000</td>\n",
       "    </tr>\n",
       "  </tbody>\n",
       "</table>\n",
       "</div>"
      ],
      "text/plain": [
       "  Item_Identifier  Item_Weight Item_Fat_Content  Item_Visibility  \\\n",
       "0           FDT36         12.3          Low Fat         0.111448   \n",
       "1           FDT36         12.3          Low Fat         0.111904   \n",
       "2           FDT36         12.3               LF         0.111728   \n",
       "3           FDT36         12.3          Low Fat         0.000000   \n",
       "4           FDP12          9.8          Regular         0.045523   \n",
       "\n",
       "      Item_Type  Item_MRP Outlet_Identifier  Outlet_Establishment_Year  \\\n",
       "0  Baking Goods   33.4874            OUT049                       1999   \n",
       "1  Baking Goods   33.9874            OUT017                       2007   \n",
       "2  Baking Goods   33.9874            OUT018                       2009   \n",
       "3  Baking Goods   34.3874            OUT019                       1985   \n",
       "4  Baking Goods   35.0874            OUT017                       2007   \n",
       "\n",
       "  Outlet_Size Outlet_Location_Type        Outlet_Type  Item_Outlet_Sales  \n",
       "0      Medium               Tier 1  Supermarket Type1         436.608721  \n",
       "1      Medium               Tier 2  Supermarket Type1         443.127721  \n",
       "2      Medium               Tier 3  Supermarket Type2         564.598400  \n",
       "3       Small               Tier 1      Grocery Store        1719.370000  \n",
       "4      Medium               Tier 2  Supermarket Type1         352.874000  "
      ]
     },
     "execution_count": 4,
     "metadata": {},
     "output_type": "execute_result"
    }
   ],
   "source": [
    "df.head()"
   ]
  },
  {
   "cell_type": "code",
   "execution_count": 5,
   "id": "d7e868e9",
   "metadata": {},
   "outputs": [
    {
     "name": "stdout",
     "output_type": "stream",
     "text": [
      "<class 'pandas.core.frame.DataFrame'>\n",
      "RangeIndex: 14204 entries, 0 to 14203\n",
      "Data columns (total 12 columns):\n",
      " #   Column                     Non-Null Count  Dtype  \n",
      "---  ------                     --------------  -----  \n",
      " 0   Item_Identifier            14204 non-null  object \n",
      " 1   Item_Weight                11815 non-null  float64\n",
      " 2   Item_Fat_Content           14204 non-null  object \n",
      " 3   Item_Visibility            14204 non-null  float64\n",
      " 4   Item_Type                  14204 non-null  object \n",
      " 5   Item_MRP                   14204 non-null  float64\n",
      " 6   Outlet_Identifier          14204 non-null  object \n",
      " 7   Outlet_Establishment_Year  14204 non-null  int64  \n",
      " 8   Outlet_Size                14204 non-null  object \n",
      " 9   Outlet_Location_Type       14204 non-null  object \n",
      " 10  Outlet_Type                14204 non-null  object \n",
      " 11  Item_Outlet_Sales          14204 non-null  float64\n",
      "dtypes: float64(4), int64(1), object(7)\n",
      "memory usage: 1.3+ MB\n"
     ]
    }
   ],
   "source": [
    "df.info()"
   ]
  },
  {
   "cell_type": "code",
   "execution_count": 6,
   "id": "9318ffd8",
   "metadata": {},
   "outputs": [
    {
     "data": {
      "text/html": [
       "<div>\n",
       "<style scoped>\n",
       "    .dataframe tbody tr th:only-of-type {\n",
       "        vertical-align: middle;\n",
       "    }\n",
       "\n",
       "    .dataframe tbody tr th {\n",
       "        vertical-align: top;\n",
       "    }\n",
       "\n",
       "    .dataframe thead th {\n",
       "        text-align: right;\n",
       "    }\n",
       "</style>\n",
       "<table border=\"1\" class=\"dataframe\">\n",
       "  <thead>\n",
       "    <tr style=\"text-align: right;\">\n",
       "      <th></th>\n",
       "      <th>Item_Weight</th>\n",
       "      <th>Item_Visibility</th>\n",
       "      <th>Item_MRP</th>\n",
       "      <th>Outlet_Establishment_Year</th>\n",
       "      <th>Item_Outlet_Sales</th>\n",
       "    </tr>\n",
       "  </thead>\n",
       "  <tbody>\n",
       "    <tr>\n",
       "      <th>count</th>\n",
       "      <td>11815.000000</td>\n",
       "      <td>14204.000000</td>\n",
       "      <td>14204.000000</td>\n",
       "      <td>14204.000000</td>\n",
       "      <td>14204.000000</td>\n",
       "    </tr>\n",
       "    <tr>\n",
       "      <th>mean</th>\n",
       "      <td>12.788355</td>\n",
       "      <td>0.065953</td>\n",
       "      <td>141.004977</td>\n",
       "      <td>1997.830681</td>\n",
       "      <td>2185.836320</td>\n",
       "    </tr>\n",
       "    <tr>\n",
       "      <th>std</th>\n",
       "      <td>4.654126</td>\n",
       "      <td>0.051459</td>\n",
       "      <td>62.086938</td>\n",
       "      <td>8.371664</td>\n",
       "      <td>1827.479550</td>\n",
       "    </tr>\n",
       "    <tr>\n",
       "      <th>min</th>\n",
       "      <td>4.555000</td>\n",
       "      <td>0.000000</td>\n",
       "      <td>31.290000</td>\n",
       "      <td>1985.000000</td>\n",
       "      <td>33.290000</td>\n",
       "    </tr>\n",
       "    <tr>\n",
       "      <th>25%</th>\n",
       "      <td>8.710000</td>\n",
       "      <td>0.027036</td>\n",
       "      <td>94.012000</td>\n",
       "      <td>1987.000000</td>\n",
       "      <td>922.135101</td>\n",
       "    </tr>\n",
       "    <tr>\n",
       "      <th>50%</th>\n",
       "      <td>12.500000</td>\n",
       "      <td>0.054021</td>\n",
       "      <td>142.247000</td>\n",
       "      <td>1999.000000</td>\n",
       "      <td>1768.287680</td>\n",
       "    </tr>\n",
       "    <tr>\n",
       "      <th>75%</th>\n",
       "      <td>16.750000</td>\n",
       "      <td>0.094037</td>\n",
       "      <td>185.855600</td>\n",
       "      <td>2004.000000</td>\n",
       "      <td>2988.110400</td>\n",
       "    </tr>\n",
       "    <tr>\n",
       "      <th>max</th>\n",
       "      <td>30.000000</td>\n",
       "      <td>0.328391</td>\n",
       "      <td>266.888400</td>\n",
       "      <td>2009.000000</td>\n",
       "      <td>31224.726950</td>\n",
       "    </tr>\n",
       "  </tbody>\n",
       "</table>\n",
       "</div>"
      ],
      "text/plain": [
       "        Item_Weight  Item_Visibility      Item_MRP  Outlet_Establishment_Year  \\\n",
       "count  11815.000000     14204.000000  14204.000000               14204.000000   \n",
       "mean      12.788355         0.065953    141.004977                1997.830681   \n",
       "std        4.654126         0.051459     62.086938                   8.371664   \n",
       "min        4.555000         0.000000     31.290000                1985.000000   \n",
       "25%        8.710000         0.027036     94.012000                1987.000000   \n",
       "50%       12.500000         0.054021    142.247000                1999.000000   \n",
       "75%       16.750000         0.094037    185.855600                2004.000000   \n",
       "max       30.000000         0.328391    266.888400                2009.000000   \n",
       "\n",
       "       Item_Outlet_Sales  \n",
       "count       14204.000000  \n",
       "mean         2185.836320  \n",
       "std          1827.479550  \n",
       "min            33.290000  \n",
       "25%           922.135101  \n",
       "50%          1768.287680  \n",
       "75%          2988.110400  \n",
       "max         31224.726950  "
      ]
     },
     "execution_count": 6,
     "metadata": {},
     "output_type": "execute_result"
    }
   ],
   "source": [
    "df.describe()"
   ]
  },
  {
   "cell_type": "markdown",
   "id": "2c240bd3",
   "metadata": {},
   "source": [
    "# Analysis"
   ]
  },
  {
   "cell_type": "code",
   "execution_count": 7,
   "id": "050ebeeb",
   "metadata": {},
   "outputs": [],
   "source": [
    "df['Item_Weight'].fillna(df.groupby(['Item_Type'])['Item_Weight'].transform('mean'),inplace=True)"
   ]
  },
  {
   "cell_type": "code",
   "execution_count": 8,
   "id": "51c5247e",
   "metadata": {},
   "outputs": [
    {
     "name": "stdout",
     "output_type": "stream",
     "text": [
      "<class 'pandas.core.frame.DataFrame'>\n",
      "RangeIndex: 14204 entries, 0 to 14203\n",
      "Data columns (total 12 columns):\n",
      " #   Column                     Non-Null Count  Dtype  \n",
      "---  ------                     --------------  -----  \n",
      " 0   Item_Identifier            14204 non-null  object \n",
      " 1   Item_Weight                14204 non-null  float64\n",
      " 2   Item_Fat_Content           14204 non-null  object \n",
      " 3   Item_Visibility            14204 non-null  float64\n",
      " 4   Item_Type                  14204 non-null  object \n",
      " 5   Item_MRP                   14204 non-null  float64\n",
      " 6   Outlet_Identifier          14204 non-null  object \n",
      " 7   Outlet_Establishment_Year  14204 non-null  int64  \n",
      " 8   Outlet_Size                14204 non-null  object \n",
      " 9   Outlet_Location_Type       14204 non-null  object \n",
      " 10  Outlet_Type                14204 non-null  object \n",
      " 11  Item_Outlet_Sales          14204 non-null  float64\n",
      "dtypes: float64(4), int64(1), object(7)\n",
      "memory usage: 1.3+ MB\n"
     ]
    }
   ],
   "source": [
    "df.info()"
   ]
  },
  {
   "cell_type": "code",
   "execution_count": 9,
   "id": "fe1c649f",
   "metadata": {},
   "outputs": [
    {
     "data": {
      "text/plain": [
       "Low Fat    8485\n",
       "Regular    4824\n",
       "LF          522\n",
       "reg         195\n",
       "low fat     178\n",
       "Name: Item_Fat_Content, dtype: int64"
      ]
     },
     "execution_count": 9,
     "metadata": {},
     "output_type": "execute_result"
    }
   ],
   "source": [
    "df['Item_Fat_Content'].value_counts()"
   ]
  },
  {
   "cell_type": "code",
   "execution_count": 10,
   "id": "7cc580bf",
   "metadata": {},
   "outputs": [],
   "source": [
    "df.replace({'Item_Fat_Content':{'Low Fat':0,'Regular':1,'LF':0,'reg':1,'low fat':0}},inplace=True)"
   ]
  },
  {
   "cell_type": "code",
   "execution_count": 11,
   "id": "adea7d9b",
   "metadata": {},
   "outputs": [
    {
     "data": {
      "text/plain": [
       "Fruits and Vegetables    2013\n",
       "Snack Foods              1989\n",
       "Household                1548\n",
       "Frozen Foods             1426\n",
       "Dairy                    1136\n",
       "Baking Goods             1086\n",
       "Canned                   1084\n",
       "Health and Hygiene        858\n",
       "Meat                      736\n",
       "Soft Drinks               726\n",
       "Breads                    416\n",
       "Hard Drinks               362\n",
       "Others                    280\n",
       "Starchy Foods             269\n",
       "Breakfast                 186\n",
       "Seafood                    89\n",
       "Name: Item_Type, dtype: int64"
      ]
     },
     "execution_count": 11,
     "metadata": {},
     "output_type": "execute_result"
    }
   ],
   "source": [
    "df['Item_Type'].value_counts()"
   ]
  },
  {
   "cell_type": "code",
   "execution_count": 12,
   "id": "2cad78f7",
   "metadata": {},
   "outputs": [],
   "source": [
    "df.replace({'Item_Type':{'Fruits and Vegetables':0,'Snack Foods':1,'Household':2,'Frozen Foods':0,\n",
    "                        'Dairy':0,'Baking Goods':2,'Canned':3,'Health and Hygiene':0,'Meat':5,\n",
    "                        'Soft Drinks':4,'Breads':1,'Hard Drinks':4,'Others':2,'Starchy Foods':5,\n",
    "                        'Breakfast':1,'Seafood':5}},inplace=True)"
   ]
  },
  {
   "cell_type": "code",
   "execution_count": 13,
   "id": "9c922d0e",
   "metadata": {},
   "outputs": [
    {
     "data": {
      "text/plain": [
       "OUT027    1559\n",
       "OUT013    1553\n",
       "OUT049    1550\n",
       "OUT046    1550\n",
       "OUT035    1550\n",
       "OUT045    1548\n",
       "OUT018    1546\n",
       "OUT017    1543\n",
       "OUT010     925\n",
       "OUT019     880\n",
       "Name: Outlet_Identifier, dtype: int64"
      ]
     },
     "execution_count": 13,
     "metadata": {},
     "output_type": "execute_result"
    }
   ],
   "source": [
    "df['Outlet_Identifier'].value_counts()"
   ]
  },
  {
   "cell_type": "code",
   "execution_count": 14,
   "id": "acf1c988",
   "metadata": {},
   "outputs": [],
   "source": [
    "df.replace({'Outlet_Identifier':{'OUT027':0,'OUT013':1,'OUT049':2,'OUT046':3,'OUT035':4,\n",
    "             'OUT045':5,'OUT018':6,'OUT017':7,'OUT010':8,'OUT019':9}},inplace=True)"
   ]
  },
  {
   "cell_type": "code",
   "execution_count": 15,
   "id": "6d990451",
   "metadata": {},
   "outputs": [
    {
     "data": {
      "text/plain": [
       "Medium    7122\n",
       "Small     5529\n",
       "High      1553\n",
       "Name: Outlet_Size, dtype: int64"
      ]
     },
     "execution_count": 15,
     "metadata": {},
     "output_type": "execute_result"
    }
   ],
   "source": [
    "df['Outlet_Size'].value_counts()"
   ]
  },
  {
   "cell_type": "code",
   "execution_count": 16,
   "id": "ab2d3369",
   "metadata": {},
   "outputs": [],
   "source": [
    "df.replace({'Outlet_Size':{'Medium':0,'Small':1,'High':2}},inplace=True)"
   ]
  },
  {
   "cell_type": "code",
   "execution_count": 17,
   "id": "d25450ed",
   "metadata": {},
   "outputs": [
    {
     "data": {
      "text/plain": [
       "Tier 3    5583\n",
       "Tier 2    4641\n",
       "Tier 1    3980\n",
       "Name: Outlet_Location_Type, dtype: int64"
      ]
     },
     "execution_count": 17,
     "metadata": {},
     "output_type": "execute_result"
    }
   ],
   "source": [
    "df['Outlet_Location_Type'].value_counts()"
   ]
  },
  {
   "cell_type": "code",
   "execution_count": 18,
   "id": "041afac5",
   "metadata": {},
   "outputs": [],
   "source": [
    "df.replace({'Outlet_Location_Type':{'Tier 3':0,'Tier 2':1,'Tier 1':2}},inplace=True)"
   ]
  },
  {
   "cell_type": "code",
   "execution_count": 19,
   "id": "0f11571a",
   "metadata": {
    "scrolled": true
   },
   "outputs": [
    {
     "data": {
      "text/plain": [
       "Supermarket Type1    9294\n",
       "Grocery Store        1805\n",
       "Supermarket Type3    1559\n",
       "Supermarket Type2    1546\n",
       "Name: Outlet_Type, dtype: int64"
      ]
     },
     "execution_count": 19,
     "metadata": {},
     "output_type": "execute_result"
    }
   ],
   "source": [
    "df['Outlet_Type'].value_counts()"
   ]
  },
  {
   "cell_type": "code",
   "execution_count": 20,
   "id": "3299d72f",
   "metadata": {},
   "outputs": [],
   "source": [
    "df.replace({'Outlet_Type':{'Supermarket Type1':0,'Grocery Store':1,'Supermarket Type3':1,'Supermarket Type2':1}},inplace=True)"
   ]
  },
  {
   "cell_type": "code",
   "execution_count": 21,
   "id": "1dae3736",
   "metadata": {},
   "outputs": [
    {
     "data": {
      "text/html": [
       "<div>\n",
       "<style scoped>\n",
       "    .dataframe tbody tr th:only-of-type {\n",
       "        vertical-align: middle;\n",
       "    }\n",
       "\n",
       "    .dataframe tbody tr th {\n",
       "        vertical-align: top;\n",
       "    }\n",
       "\n",
       "    .dataframe thead th {\n",
       "        text-align: right;\n",
       "    }\n",
       "</style>\n",
       "<table border=\"1\" class=\"dataframe\">\n",
       "  <thead>\n",
       "    <tr style=\"text-align: right;\">\n",
       "      <th></th>\n",
       "      <th>Item_Weight</th>\n",
       "      <th>Item_Fat_Content</th>\n",
       "      <th>Item_Visibility</th>\n",
       "      <th>Item_Type</th>\n",
       "      <th>Item_MRP</th>\n",
       "      <th>Outlet_Identifier</th>\n",
       "      <th>Outlet_Establishment_Year</th>\n",
       "      <th>Outlet_Size</th>\n",
       "      <th>Outlet_Location_Type</th>\n",
       "      <th>Outlet_Type</th>\n",
       "      <th>Item_Outlet_Sales</th>\n",
       "    </tr>\n",
       "  </thead>\n",
       "  <tbody>\n",
       "    <tr>\n",
       "      <th>Item_Weight</th>\n",
       "      <td>1.000000</td>\n",
       "      <td>-0.032692</td>\n",
       "      <td>-0.014176</td>\n",
       "      <td>-0.045725</td>\n",
       "      <td>0.034502</td>\n",
       "      <td>-0.001995</td>\n",
       "      <td>0.001258</td>\n",
       "      <td>0.001245</td>\n",
       "      <td>0.001998</td>\n",
       "      <td>-0.002390</td>\n",
       "      <td>0.160823</td>\n",
       "    </tr>\n",
       "    <tr>\n",
       "      <th>Item_Fat_Content</th>\n",
       "      <td>-0.032692</td>\n",
       "      <td>1.000000</td>\n",
       "      <td>0.044274</td>\n",
       "      <td>-0.027070</td>\n",
       "      <td>-0.004019</td>\n",
       "      <td>0.000406</td>\n",
       "      <td>0.000137</td>\n",
       "      <td>-0.000259</td>\n",
       "      <td>-0.001373</td>\n",
       "      <td>0.000943</td>\n",
       "      <td>-0.002852</td>\n",
       "    </tr>\n",
       "    <tr>\n",
       "      <th>Item_Visibility</th>\n",
       "      <td>-0.014176</td>\n",
       "      <td>0.044274</td>\n",
       "      <td>1.000000</td>\n",
       "      <td>-0.024612</td>\n",
       "      <td>-0.006351</td>\n",
       "      <td>0.180776</td>\n",
       "      <td>-0.083678</td>\n",
       "      <td>-0.012030</td>\n",
       "      <td>0.017362</td>\n",
       "      <td>0.148925</td>\n",
       "      <td>-0.158813</td>\n",
       "    </tr>\n",
       "    <tr>\n",
       "      <th>Item_Type</th>\n",
       "      <td>-0.045725</td>\n",
       "      <td>-0.027070</td>\n",
       "      <td>-0.024612</td>\n",
       "      <td>1.000000</td>\n",
       "      <td>-0.013652</td>\n",
       "      <td>-0.002142</td>\n",
       "      <td>0.002223</td>\n",
       "      <td>-0.000599</td>\n",
       "      <td>-0.001920</td>\n",
       "      <td>-0.002098</td>\n",
       "      <td>-0.003854</td>\n",
       "    </tr>\n",
       "    <tr>\n",
       "      <th>Item_MRP</th>\n",
       "      <td>0.034502</td>\n",
       "      <td>-0.004019</td>\n",
       "      <td>-0.006351</td>\n",
       "      <td>-0.013652</td>\n",
       "      <td>1.000000</td>\n",
       "      <td>-0.000683</td>\n",
       "      <td>0.000141</td>\n",
       "      <td>-0.000244</td>\n",
       "      <td>-0.000838</td>\n",
       "      <td>-0.000176</td>\n",
       "      <td>0.532261</td>\n",
       "    </tr>\n",
       "    <tr>\n",
       "      <th>Outlet_Identifier</th>\n",
       "      <td>-0.001995</td>\n",
       "      <td>0.000406</td>\n",
       "      <td>0.180776</td>\n",
       "      <td>-0.002142</td>\n",
       "      <td>-0.000683</td>\n",
       "      <td>1.000000</td>\n",
       "      <td>0.482064</td>\n",
       "      <td>-0.230966</td>\n",
       "      <td>0.129407</td>\n",
       "      <td>0.235669</td>\n",
       "      <td>-0.277406</td>\n",
       "    </tr>\n",
       "    <tr>\n",
       "      <th>Outlet_Establishment_Year</th>\n",
       "      <td>0.001258</td>\n",
       "      <td>0.000137</td>\n",
       "      <td>-0.083678</td>\n",
       "      <td>0.002223</td>\n",
       "      <td>0.000141</td>\n",
       "      <td>0.482064</td>\n",
       "      <td>1.000000</td>\n",
       "      <td>-0.375603</td>\n",
       "      <td>0.089328</td>\n",
       "      <td>-0.245260</td>\n",
       "      <td>-0.110786</td>\n",
       "    </tr>\n",
       "    <tr>\n",
       "      <th>Outlet_Size</th>\n",
       "      <td>0.001245</td>\n",
       "      <td>-0.000259</td>\n",
       "      <td>-0.012030</td>\n",
       "      <td>-0.000599</td>\n",
       "      <td>-0.000244</td>\n",
       "      <td>-0.230966</td>\n",
       "      <td>-0.375603</td>\n",
       "      <td>1.000000</td>\n",
       "      <td>0.038250</td>\n",
       "      <td>-0.460920</td>\n",
       "      <td>-0.067836</td>\n",
       "    </tr>\n",
       "    <tr>\n",
       "      <th>Outlet_Location_Type</th>\n",
       "      <td>0.001998</td>\n",
       "      <td>-0.001373</td>\n",
       "      <td>0.017362</td>\n",
       "      <td>-0.001920</td>\n",
       "      <td>-0.000838</td>\n",
       "      <td>0.129407</td>\n",
       "      <td>0.089328</td>\n",
       "      <td>0.038250</td>\n",
       "      <td>1.000000</td>\n",
       "      <td>-0.472822</td>\n",
       "      <td>-0.094415</td>\n",
       "    </tr>\n",
       "    <tr>\n",
       "      <th>Outlet_Type</th>\n",
       "      <td>-0.002390</td>\n",
       "      <td>0.000943</td>\n",
       "      <td>0.148925</td>\n",
       "      <td>-0.002098</td>\n",
       "      <td>-0.000176</td>\n",
       "      <td>0.235669</td>\n",
       "      <td>-0.245260</td>\n",
       "      <td>-0.460920</td>\n",
       "      <td>-0.472822</td>\n",
       "      <td>1.000000</td>\n",
       "      <td>0.016256</td>\n",
       "    </tr>\n",
       "    <tr>\n",
       "      <th>Item_Outlet_Sales</th>\n",
       "      <td>0.160823</td>\n",
       "      <td>-0.002852</td>\n",
       "      <td>-0.158813</td>\n",
       "      <td>-0.003854</td>\n",
       "      <td>0.532261</td>\n",
       "      <td>-0.277406</td>\n",
       "      <td>-0.110786</td>\n",
       "      <td>-0.067836</td>\n",
       "      <td>-0.094415</td>\n",
       "      <td>0.016256</td>\n",
       "      <td>1.000000</td>\n",
       "    </tr>\n",
       "  </tbody>\n",
       "</table>\n",
       "</div>"
      ],
      "text/plain": [
       "                           Item_Weight  Item_Fat_Content  Item_Visibility  \\\n",
       "Item_Weight                   1.000000         -0.032692        -0.014176   \n",
       "Item_Fat_Content             -0.032692          1.000000         0.044274   \n",
       "Item_Visibility              -0.014176          0.044274         1.000000   \n",
       "Item_Type                    -0.045725         -0.027070        -0.024612   \n",
       "Item_MRP                      0.034502         -0.004019        -0.006351   \n",
       "Outlet_Identifier            -0.001995          0.000406         0.180776   \n",
       "Outlet_Establishment_Year     0.001258          0.000137        -0.083678   \n",
       "Outlet_Size                   0.001245         -0.000259        -0.012030   \n",
       "Outlet_Location_Type          0.001998         -0.001373         0.017362   \n",
       "Outlet_Type                  -0.002390          0.000943         0.148925   \n",
       "Item_Outlet_Sales             0.160823         -0.002852        -0.158813   \n",
       "\n",
       "                           Item_Type  Item_MRP  Outlet_Identifier  \\\n",
       "Item_Weight                -0.045725  0.034502          -0.001995   \n",
       "Item_Fat_Content           -0.027070 -0.004019           0.000406   \n",
       "Item_Visibility            -0.024612 -0.006351           0.180776   \n",
       "Item_Type                   1.000000 -0.013652          -0.002142   \n",
       "Item_MRP                   -0.013652  1.000000          -0.000683   \n",
       "Outlet_Identifier          -0.002142 -0.000683           1.000000   \n",
       "Outlet_Establishment_Year   0.002223  0.000141           0.482064   \n",
       "Outlet_Size                -0.000599 -0.000244          -0.230966   \n",
       "Outlet_Location_Type       -0.001920 -0.000838           0.129407   \n",
       "Outlet_Type                -0.002098 -0.000176           0.235669   \n",
       "Item_Outlet_Sales          -0.003854  0.532261          -0.277406   \n",
       "\n",
       "                           Outlet_Establishment_Year  Outlet_Size  \\\n",
       "Item_Weight                                 0.001258     0.001245   \n",
       "Item_Fat_Content                            0.000137    -0.000259   \n",
       "Item_Visibility                            -0.083678    -0.012030   \n",
       "Item_Type                                   0.002223    -0.000599   \n",
       "Item_MRP                                    0.000141    -0.000244   \n",
       "Outlet_Identifier                           0.482064    -0.230966   \n",
       "Outlet_Establishment_Year                   1.000000    -0.375603   \n",
       "Outlet_Size                                -0.375603     1.000000   \n",
       "Outlet_Location_Type                        0.089328     0.038250   \n",
       "Outlet_Type                                -0.245260    -0.460920   \n",
       "Item_Outlet_Sales                          -0.110786    -0.067836   \n",
       "\n",
       "                           Outlet_Location_Type  Outlet_Type  \\\n",
       "Item_Weight                            0.001998    -0.002390   \n",
       "Item_Fat_Content                      -0.001373     0.000943   \n",
       "Item_Visibility                        0.017362     0.148925   \n",
       "Item_Type                             -0.001920    -0.002098   \n",
       "Item_MRP                              -0.000838    -0.000176   \n",
       "Outlet_Identifier                      0.129407     0.235669   \n",
       "Outlet_Establishment_Year              0.089328    -0.245260   \n",
       "Outlet_Size                            0.038250    -0.460920   \n",
       "Outlet_Location_Type                   1.000000    -0.472822   \n",
       "Outlet_Type                           -0.472822     1.000000   \n",
       "Item_Outlet_Sales                     -0.094415     0.016256   \n",
       "\n",
       "                           Item_Outlet_Sales  \n",
       "Item_Weight                         0.160823  \n",
       "Item_Fat_Content                   -0.002852  \n",
       "Item_Visibility                    -0.158813  \n",
       "Item_Type                          -0.003854  \n",
       "Item_MRP                            0.532261  \n",
       "Outlet_Identifier                  -0.277406  \n",
       "Outlet_Establishment_Year          -0.110786  \n",
       "Outlet_Size                        -0.067836  \n",
       "Outlet_Location_Type               -0.094415  \n",
       "Outlet_Type                         0.016256  \n",
       "Item_Outlet_Sales                   1.000000  "
      ]
     },
     "execution_count": 21,
     "metadata": {},
     "output_type": "execute_result"
    }
   ],
   "source": [
    "df.corr()"
   ]
  },
  {
   "cell_type": "code",
   "execution_count": null,
   "id": "757c4e96",
   "metadata": {},
   "outputs": [],
   "source": [
    "sns.pairplot(df)"
   ]
  },
  {
   "cell_type": "markdown",
   "id": "9457dffc",
   "metadata": {},
   "source": [
    "# Defining X and y variable and scaling"
   ]
  },
  {
   "cell_type": "code",
   "execution_count": null,
   "id": "1cc530a2",
   "metadata": {},
   "outputs": [],
   "source": [
    "y=df['Item_Outlet_Sales']"
   ]
  },
  {
   "cell_type": "code",
   "execution_count": null,
   "id": "e77ecdf3",
   "metadata": {},
   "outputs": [],
   "source": [
    "X = df.drop(['Item_Identifier','Item_Outlet_Sales'],axis=1)"
   ]
  },
  {
   "cell_type": "code",
   "execution_count": null,
   "id": "88beb53d",
   "metadata": {},
   "outputs": [],
   "source": [
    "X.info()"
   ]
  },
  {
   "cell_type": "code",
   "execution_count": null,
   "id": "a187929d",
   "metadata": {},
   "outputs": [],
   "source": [
    "from sklearn.preprocessing import StandardScaler"
   ]
  },
  {
   "cell_type": "code",
   "execution_count": null,
   "id": "6406d3cd",
   "metadata": {},
   "outputs": [],
   "source": [
    "ss = StandardScaler()"
   ]
  },
  {
   "cell_type": "code",
   "execution_count": null,
   "id": "42665402",
   "metadata": {},
   "outputs": [],
   "source": [
    "X = ss.fit_transform(X)"
   ]
  },
  {
   "cell_type": "code",
   "execution_count": null,
   "id": "8fb9faf8",
   "metadata": {},
   "outputs": [],
   "source": [
    "pd.DataFrame(X).describe()"
   ]
  },
  {
   "cell_type": "markdown",
   "id": "adea6f2c",
   "metadata": {},
   "source": [
    "# Train,Test,Split"
   ]
  },
  {
   "cell_type": "code",
   "execution_count": null,
   "id": "c3ae6314",
   "metadata": {},
   "outputs": [],
   "source": [
    "from sklearn.model_selection import train_test_split"
   ]
  },
  {
   "cell_type": "code",
   "execution_count": null,
   "id": "4b604bdf",
   "metadata": {},
   "outputs": [],
   "source": [
    "X_train,X_test,y_train,y_test = train_test_split(X,y,train_size=0.7,test_size=0.3,random_state=2527)"
   ]
  },
  {
   "cell_type": "code",
   "execution_count": null,
   "id": "aa077f33",
   "metadata": {},
   "outputs": [],
   "source": [
    "X_train.shape,X_test.shape,y_train.shape,y_test.shape"
   ]
  },
  {
   "cell_type": "markdown",
   "id": "0e39c705",
   "metadata": {},
   "source": [
    "# Model"
   ]
  },
  {
   "cell_type": "code",
   "execution_count": null,
   "id": "24f6525e",
   "metadata": {},
   "outputs": [],
   "source": [
    "from sklearn.ensemble import RandomForestRegressor"
   ]
  },
  {
   "cell_type": "code",
   "execution_count": null,
   "id": "54403d29",
   "metadata": {},
   "outputs": [],
   "source": [
    "rfr = RandomForestRegressor(random_state=2529)"
   ]
  },
  {
   "cell_type": "code",
   "execution_count": null,
   "id": "a753c397",
   "metadata": {},
   "outputs": [],
   "source": [
    "rfr.fit(X_train,y_train)"
   ]
  },
  {
   "cell_type": "code",
   "execution_count": null,
   "id": "cb8ae382",
   "metadata": {},
   "outputs": [],
   "source": [
    "y_pred = rfr.predict(X_test)"
   ]
  },
  {
   "cell_type": "markdown",
   "id": "8578985e",
   "metadata": {},
   "source": [
    "# Model accuracy"
   ]
  },
  {
   "cell_type": "code",
   "execution_count": null,
   "id": "d20aa50e",
   "metadata": {},
   "outputs": [],
   "source": [
    "from sklearn.metrics import r2_score\n"
   ]
  },
  {
   "cell_type": "code",
   "execution_count": null,
   "id": "308584dc",
   "metadata": {},
   "outputs": [],
   "source": [
    "r2_score(y_test,y_pred)"
   ]
  },
  {
   "cell_type": "markdown",
   "id": "54cce9c2",
   "metadata": {},
   "source": [
    "# Results"
   ]
  },
  {
   "cell_type": "code",
   "execution_count": null,
   "id": "eb2df297",
   "metadata": {},
   "outputs": [],
   "source": [
    "plt.scatter(y_test,y_pred)\n",
    "plt.xlabel('Actual Prices')\n",
    "plt.ylabel('Predicted Prices')\n",
    "plt.title('Actual vs Predicted')\n",
    "plt.show()"
   ]
  },
  {
   "cell_type": "code",
   "execution_count": null,
   "id": "8dca9f59",
   "metadata": {},
   "outputs": [],
   "source": []
  }
 ],
 "metadata": {
  "kernelspec": {
   "display_name": "Python 3 (ipykernel)",
   "language": "python",
   "name": "python3"
  },
  "language_info": {
   "codemirror_mode": {
    "name": "ipython",
    "version": 3
   },
   "file_extension": ".py",
   "mimetype": "text/x-python",
   "name": "python",
   "nbconvert_exporter": "python",
   "pygments_lexer": "ipython3",
   "version": "3.9.7"
  }
 },
 "nbformat": 4,
 "nbformat_minor": 5
}
