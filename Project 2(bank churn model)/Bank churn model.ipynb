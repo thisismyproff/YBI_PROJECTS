{
 "cells": [
  {
   "cell_type": "code",
   "execution_count": 1,
   "id": "89484aac",
   "metadata": {},
   "outputs": [],
   "source": [
    "import pandas as pd\n",
    "import numpy as np\n",
    "import matplotlib.pyplot as plt\n",
    "import seaborn as sns"
   ]
  },
  {
   "cell_type": "code",
   "execution_count": 3,
   "id": "2ffcabc7",
   "metadata": {},
   "outputs": [],
   "source": [
    "df = pd.read_csv(\"Bank Churn Modelling.csv\")"
   ]
  },
  {
   "cell_type": "markdown",
   "id": "4e0d8a9a",
   "metadata": {},
   "source": [
    "# Analysis"
   ]
  },
  {
   "cell_type": "code",
   "execution_count": 4,
   "id": "9ad01a35",
   "metadata": {},
   "outputs": [
    {
     "name": "stdout",
     "output_type": "stream",
     "text": [
      "<class 'pandas.core.frame.DataFrame'>\n",
      "RangeIndex: 10000 entries, 0 to 9999\n",
      "Data columns (total 13 columns):\n",
      " #   Column            Non-Null Count  Dtype  \n",
      "---  ------            --------------  -----  \n",
      " 0   CustomerId        10000 non-null  int64  \n",
      " 1   Surname           10000 non-null  object \n",
      " 2   CreditScore       10000 non-null  int64  \n",
      " 3   Geography         10000 non-null  object \n",
      " 4   Gender            10000 non-null  object \n",
      " 5   Age               10000 non-null  int64  \n",
      " 6   Tenure            10000 non-null  int64  \n",
      " 7   Balance           10000 non-null  float64\n",
      " 8   Num Of Products   10000 non-null  int64  \n",
      " 9   Has Credit Card   10000 non-null  int64  \n",
      " 10  Is Active Member  10000 non-null  int64  \n",
      " 11  Estimated Salary  10000 non-null  float64\n",
      " 12  Churn             10000 non-null  int64  \n",
      "dtypes: float64(2), int64(8), object(3)\n",
      "memory usage: 1015.8+ KB\n"
     ]
    }
   ],
   "source": [
    "df.info()"
   ]
  },
  {
   "cell_type": "code",
   "execution_count": 7,
   "id": "d87ecbfd",
   "metadata": {},
   "outputs": [
    {
     "data": {
      "text/plain": [
       "0"
      ]
     },
     "execution_count": 7,
     "metadata": {},
     "output_type": "execute_result"
    }
   ],
   "source": [
    "df.duplicated(\"CustomerId\").sum()"
   ]
  },
  {
   "cell_type": "markdown",
   "id": "f84ca90f",
   "metadata": {},
   "source": [
    "### Here we sum() method to add all boolean value, the answer is zero signifying that there are no duplicate values"
   ]
  },
  {
   "cell_type": "code",
   "execution_count": 8,
   "id": "541ae8a4",
   "metadata": {},
   "outputs": [],
   "source": [
    "df = df.set_index(\"CustomerId\")"
   ]
  },
  {
   "cell_type": "code",
   "execution_count": 9,
   "id": "b86b72af",
   "metadata": {},
   "outputs": [
    {
     "name": "stdout",
     "output_type": "stream",
     "text": [
      "<class 'pandas.core.frame.DataFrame'>\n",
      "Int64Index: 10000 entries, 15634602 to 15628319\n",
      "Data columns (total 12 columns):\n",
      " #   Column            Non-Null Count  Dtype  \n",
      "---  ------            --------------  -----  \n",
      " 0   Surname           10000 non-null  object \n",
      " 1   CreditScore       10000 non-null  int64  \n",
      " 2   Geography         10000 non-null  object \n",
      " 3   Gender            10000 non-null  object \n",
      " 4   Age               10000 non-null  int64  \n",
      " 5   Tenure            10000 non-null  int64  \n",
      " 6   Balance           10000 non-null  float64\n",
      " 7   Num Of Products   10000 non-null  int64  \n",
      " 8   Has Credit Card   10000 non-null  int64  \n",
      " 9   Is Active Member  10000 non-null  int64  \n",
      " 10  Estimated Salary  10000 non-null  float64\n",
      " 11  Churn             10000 non-null  int64  \n",
      "dtypes: float64(2), int64(7), object(3)\n",
      "memory usage: 1015.6+ KB\n"
     ]
    }
   ],
   "source": [
    "df.info()"
   ]
  },
  {
   "cell_type": "code",
   "execution_count": 10,
   "id": "b1135bfe",
   "metadata": {},
   "outputs": [
    {
     "data": {
      "text/html": [
       "<div>\n",
       "<style scoped>\n",
       "    .dataframe tbody tr th:only-of-type {\n",
       "        vertical-align: middle;\n",
       "    }\n",
       "\n",
       "    .dataframe tbody tr th {\n",
       "        vertical-align: top;\n",
       "    }\n",
       "\n",
       "    .dataframe thead th {\n",
       "        text-align: right;\n",
       "    }\n",
       "</style>\n",
       "<table border=\"1\" class=\"dataframe\">\n",
       "  <thead>\n",
       "    <tr style=\"text-align: right;\">\n",
       "      <th></th>\n",
       "      <th>Surname</th>\n",
       "      <th>CreditScore</th>\n",
       "      <th>Geography</th>\n",
       "      <th>Gender</th>\n",
       "      <th>Age</th>\n",
       "      <th>Tenure</th>\n",
       "      <th>Balance</th>\n",
       "      <th>Num Of Products</th>\n",
       "      <th>Has Credit Card</th>\n",
       "      <th>Is Active Member</th>\n",
       "      <th>Estimated Salary</th>\n",
       "      <th>Churn</th>\n",
       "    </tr>\n",
       "    <tr>\n",
       "      <th>CustomerId</th>\n",
       "      <th></th>\n",
       "      <th></th>\n",
       "      <th></th>\n",
       "      <th></th>\n",
       "      <th></th>\n",
       "      <th></th>\n",
       "      <th></th>\n",
       "      <th></th>\n",
       "      <th></th>\n",
       "      <th></th>\n",
       "      <th></th>\n",
       "      <th></th>\n",
       "    </tr>\n",
       "  </thead>\n",
       "  <tbody>\n",
       "    <tr>\n",
       "      <th>15634602</th>\n",
       "      <td>Hargrave</td>\n",
       "      <td>619</td>\n",
       "      <td>France</td>\n",
       "      <td>Female</td>\n",
       "      <td>42</td>\n",
       "      <td>2</td>\n",
       "      <td>0.00</td>\n",
       "      <td>1</td>\n",
       "      <td>1</td>\n",
       "      <td>1</td>\n",
       "      <td>101348.88</td>\n",
       "      <td>1</td>\n",
       "    </tr>\n",
       "    <tr>\n",
       "      <th>15647311</th>\n",
       "      <td>Hill</td>\n",
       "      <td>608</td>\n",
       "      <td>Spain</td>\n",
       "      <td>Female</td>\n",
       "      <td>41</td>\n",
       "      <td>1</td>\n",
       "      <td>83807.86</td>\n",
       "      <td>1</td>\n",
       "      <td>0</td>\n",
       "      <td>1</td>\n",
       "      <td>112542.58</td>\n",
       "      <td>0</td>\n",
       "    </tr>\n",
       "    <tr>\n",
       "      <th>15619304</th>\n",
       "      <td>Onio</td>\n",
       "      <td>502</td>\n",
       "      <td>France</td>\n",
       "      <td>Female</td>\n",
       "      <td>42</td>\n",
       "      <td>8</td>\n",
       "      <td>159660.80</td>\n",
       "      <td>3</td>\n",
       "      <td>1</td>\n",
       "      <td>0</td>\n",
       "      <td>113931.57</td>\n",
       "      <td>1</td>\n",
       "    </tr>\n",
       "    <tr>\n",
       "      <th>15701354</th>\n",
       "      <td>Boni</td>\n",
       "      <td>699</td>\n",
       "      <td>France</td>\n",
       "      <td>Female</td>\n",
       "      <td>39</td>\n",
       "      <td>1</td>\n",
       "      <td>0.00</td>\n",
       "      <td>2</td>\n",
       "      <td>0</td>\n",
       "      <td>0</td>\n",
       "      <td>93826.63</td>\n",
       "      <td>0</td>\n",
       "    </tr>\n",
       "    <tr>\n",
       "      <th>15737888</th>\n",
       "      <td>Mitchell</td>\n",
       "      <td>850</td>\n",
       "      <td>Spain</td>\n",
       "      <td>Female</td>\n",
       "      <td>43</td>\n",
       "      <td>2</td>\n",
       "      <td>125510.82</td>\n",
       "      <td>1</td>\n",
       "      <td>1</td>\n",
       "      <td>1</td>\n",
       "      <td>79084.10</td>\n",
       "      <td>0</td>\n",
       "    </tr>\n",
       "  </tbody>\n",
       "</table>\n",
       "</div>"
      ],
      "text/plain": [
       "             Surname  CreditScore Geography  Gender  Age  Tenure    Balance  \\\n",
       "CustomerId                                                                    \n",
       "15634602    Hargrave          619    France  Female   42       2       0.00   \n",
       "15647311        Hill          608     Spain  Female   41       1   83807.86   \n",
       "15619304        Onio          502    France  Female   42       8  159660.80   \n",
       "15701354        Boni          699    France  Female   39       1       0.00   \n",
       "15737888    Mitchell          850     Spain  Female   43       2  125510.82   \n",
       "\n",
       "            Num Of Products  Has Credit Card  Is Active Member  \\\n",
       "CustomerId                                                       \n",
       "15634602                  1                1                 1   \n",
       "15647311                  1                0                 1   \n",
       "15619304                  3                1                 0   \n",
       "15701354                  2                0                 0   \n",
       "15737888                  1                1                 1   \n",
       "\n",
       "            Estimated Salary  Churn  \n",
       "CustomerId                           \n",
       "15634602           101348.88      1  \n",
       "15647311           112542.58      0  \n",
       "15619304           113931.57      1  \n",
       "15701354            93826.63      0  \n",
       "15737888            79084.10      0  "
      ]
     },
     "execution_count": 10,
     "metadata": {},
     "output_type": "execute_result"
    }
   ],
   "source": [
    "df.head()"
   ]
  },
  {
   "cell_type": "markdown",
   "id": "549e14aa",
   "metadata": {},
   "source": [
    "# Data Encoding : In here we convert all object data type in integer or float as we cannot apply ML on object data type"
   ]
  },
  {
   "cell_type": "code",
   "execution_count": 11,
   "id": "4f5f4aea",
   "metadata": {},
   "outputs": [
    {
     "name": "stdout",
     "output_type": "stream",
     "text": [
      "<class 'pandas.core.frame.DataFrame'>\n",
      "Int64Index: 10000 entries, 15634602 to 15628319\n",
      "Data columns (total 12 columns):\n",
      " #   Column            Non-Null Count  Dtype  \n",
      "---  ------            --------------  -----  \n",
      " 0   Surname           10000 non-null  object \n",
      " 1   CreditScore       10000 non-null  int64  \n",
      " 2   Geography         10000 non-null  object \n",
      " 3   Gender            10000 non-null  object \n",
      " 4   Age               10000 non-null  int64  \n",
      " 5   Tenure            10000 non-null  int64  \n",
      " 6   Balance           10000 non-null  float64\n",
      " 7   Num Of Products   10000 non-null  int64  \n",
      " 8   Has Credit Card   10000 non-null  int64  \n",
      " 9   Is Active Member  10000 non-null  int64  \n",
      " 10  Estimated Salary  10000 non-null  float64\n",
      " 11  Churn             10000 non-null  int64  \n",
      "dtypes: float64(2), int64(7), object(3)\n",
      "memory usage: 1015.6+ KB\n"
     ]
    }
   ],
   "source": [
    "df.info()"
   ]
  },
  {
   "cell_type": "code",
   "execution_count": 12,
   "id": "a0632181",
   "metadata": {},
   "outputs": [
    {
     "data": {
      "text/plain": [
       "France     5014\n",
       "Germany    2509\n",
       "Spain      2477\n",
       "Name: Geography, dtype: int64"
      ]
     },
     "execution_count": 12,
     "metadata": {},
     "output_type": "execute_result"
    }
   ],
   "source": [
    "df[\"Geography\"].value_counts()"
   ]
  },
  {
   "cell_type": "code",
   "execution_count": 13,
   "id": "abc53c68",
   "metadata": {},
   "outputs": [],
   "source": [
    "df.replace({'Geography':{'France':2,'Germany':1,'Spain':0}},inplace=True)"
   ]
  },
  {
   "cell_type": "code",
   "execution_count": 14,
   "id": "c79b6f70",
   "metadata": {},
   "outputs": [
    {
     "data": {
      "text/plain": [
       "Male      5457\n",
       "Female    4543\n",
       "Name: Gender, dtype: int64"
      ]
     },
     "execution_count": 14,
     "metadata": {},
     "output_type": "execute_result"
    }
   ],
   "source": [
    "df[\"Gender\"].value_counts()"
   ]
  },
  {
   "cell_type": "code",
   "execution_count": 15,
   "id": "1b6162a3",
   "metadata": {},
   "outputs": [],
   "source": [
    "df.replace({'Gender':{'Female':1,'Male':0}},inplace=True)"
   ]
  },
  {
   "cell_type": "code",
   "execution_count": 17,
   "id": "9cd99f0c",
   "metadata": {},
   "outputs": [
    {
     "data": {
      "text/plain": [
       "1    5084\n",
       "2    4590\n",
       "3     266\n",
       "4      60\n",
       "Name: Num Of Products, dtype: int64"
      ]
     },
     "execution_count": 17,
     "metadata": {},
     "output_type": "execute_result"
    }
   ],
   "source": [
    "df[\"Num Of Products\"].value_counts()"
   ]
  },
  {
   "cell_type": "code",
   "execution_count": 18,
   "id": "49df7069",
   "metadata": {},
   "outputs": [],
   "source": [
    "df.replace({'Num Of Products':{'1':0,'2':1,'3':1,'4':1}},inplace=True)"
   ]
  },
  {
   "cell_type": "code",
   "execution_count": 20,
   "id": "5f4d1eb0",
   "metadata": {},
   "outputs": [
    {
     "data": {
      "text/plain": [
       "0    3117\n",
       "1     500\n",
       "Name: Churn, dtype: int64"
      ]
     },
     "execution_count": 20,
     "metadata": {},
     "output_type": "execute_result"
    }
   ],
   "source": [
    "df.loc[(df[\"Balance\"]==0),\"Churn\"].value_counts()"
   ]
  },
  {
   "cell_type": "code",
   "execution_count": 21,
   "id": "7c681d61",
   "metadata": {},
   "outputs": [],
   "source": [
    "df['Zero Balance'] = np.where(df[\"Balance\"]>0,1,0)"
   ]
  },
  {
   "cell_type": "code",
   "execution_count": 22,
   "id": "db455adc",
   "metadata": {},
   "outputs": [
    {
     "data": {
      "text/html": [
       "<div>\n",
       "<style scoped>\n",
       "    .dataframe tbody tr th:only-of-type {\n",
       "        vertical-align: middle;\n",
       "    }\n",
       "\n",
       "    .dataframe tbody tr th {\n",
       "        vertical-align: top;\n",
       "    }\n",
       "\n",
       "    .dataframe thead th {\n",
       "        text-align: right;\n",
       "    }\n",
       "</style>\n",
       "<table border=\"1\" class=\"dataframe\">\n",
       "  <thead>\n",
       "    <tr style=\"text-align: right;\">\n",
       "      <th></th>\n",
       "      <th>Surname</th>\n",
       "      <th>CreditScore</th>\n",
       "      <th>Geography</th>\n",
       "      <th>Gender</th>\n",
       "      <th>Age</th>\n",
       "      <th>Tenure</th>\n",
       "      <th>Balance</th>\n",
       "      <th>Num Of Products</th>\n",
       "      <th>Has Credit Card</th>\n",
       "      <th>Is Active Member</th>\n",
       "      <th>Estimated Salary</th>\n",
       "      <th>Churn</th>\n",
       "      <th>Zero Balance</th>\n",
       "    </tr>\n",
       "    <tr>\n",
       "      <th>CustomerId</th>\n",
       "      <th></th>\n",
       "      <th></th>\n",
       "      <th></th>\n",
       "      <th></th>\n",
       "      <th></th>\n",
       "      <th></th>\n",
       "      <th></th>\n",
       "      <th></th>\n",
       "      <th></th>\n",
       "      <th></th>\n",
       "      <th></th>\n",
       "      <th></th>\n",
       "      <th></th>\n",
       "    </tr>\n",
       "  </thead>\n",
       "  <tbody>\n",
       "    <tr>\n",
       "      <th>15634602</th>\n",
       "      <td>Hargrave</td>\n",
       "      <td>619</td>\n",
       "      <td>2</td>\n",
       "      <td>1</td>\n",
       "      <td>42</td>\n",
       "      <td>2</td>\n",
       "      <td>0.00</td>\n",
       "      <td>1</td>\n",
       "      <td>1</td>\n",
       "      <td>1</td>\n",
       "      <td>101348.88</td>\n",
       "      <td>1</td>\n",
       "      <td>0</td>\n",
       "    </tr>\n",
       "    <tr>\n",
       "      <th>15647311</th>\n",
       "      <td>Hill</td>\n",
       "      <td>608</td>\n",
       "      <td>0</td>\n",
       "      <td>1</td>\n",
       "      <td>41</td>\n",
       "      <td>1</td>\n",
       "      <td>83807.86</td>\n",
       "      <td>1</td>\n",
       "      <td>0</td>\n",
       "      <td>1</td>\n",
       "      <td>112542.58</td>\n",
       "      <td>0</td>\n",
       "      <td>1</td>\n",
       "    </tr>\n",
       "    <tr>\n",
       "      <th>15619304</th>\n",
       "      <td>Onio</td>\n",
       "      <td>502</td>\n",
       "      <td>2</td>\n",
       "      <td>1</td>\n",
       "      <td>42</td>\n",
       "      <td>8</td>\n",
       "      <td>159660.80</td>\n",
       "      <td>3</td>\n",
       "      <td>1</td>\n",
       "      <td>0</td>\n",
       "      <td>113931.57</td>\n",
       "      <td>1</td>\n",
       "      <td>1</td>\n",
       "    </tr>\n",
       "    <tr>\n",
       "      <th>15701354</th>\n",
       "      <td>Boni</td>\n",
       "      <td>699</td>\n",
       "      <td>2</td>\n",
       "      <td>1</td>\n",
       "      <td>39</td>\n",
       "      <td>1</td>\n",
       "      <td>0.00</td>\n",
       "      <td>2</td>\n",
       "      <td>0</td>\n",
       "      <td>0</td>\n",
       "      <td>93826.63</td>\n",
       "      <td>0</td>\n",
       "      <td>0</td>\n",
       "    </tr>\n",
       "    <tr>\n",
       "      <th>15737888</th>\n",
       "      <td>Mitchell</td>\n",
       "      <td>850</td>\n",
       "      <td>0</td>\n",
       "      <td>1</td>\n",
       "      <td>43</td>\n",
       "      <td>2</td>\n",
       "      <td>125510.82</td>\n",
       "      <td>1</td>\n",
       "      <td>1</td>\n",
       "      <td>1</td>\n",
       "      <td>79084.10</td>\n",
       "      <td>0</td>\n",
       "      <td>1</td>\n",
       "    </tr>\n",
       "  </tbody>\n",
       "</table>\n",
       "</div>"
      ],
      "text/plain": [
       "             Surname  CreditScore  Geography  Gender  Age  Tenure    Balance  \\\n",
       "CustomerId                                                                     \n",
       "15634602    Hargrave          619          2       1   42       2       0.00   \n",
       "15647311        Hill          608          0       1   41       1   83807.86   \n",
       "15619304        Onio          502          2       1   42       8  159660.80   \n",
       "15701354        Boni          699          2       1   39       1       0.00   \n",
       "15737888    Mitchell          850          0       1   43       2  125510.82   \n",
       "\n",
       "            Num Of Products  Has Credit Card  Is Active Member  \\\n",
       "CustomerId                                                       \n",
       "15634602                  1                1                 1   \n",
       "15647311                  1                0                 1   \n",
       "15619304                  3                1                 0   \n",
       "15701354                  2                0                 0   \n",
       "15737888                  1                1                 1   \n",
       "\n",
       "            Estimated Salary  Churn  Zero Balance  \n",
       "CustomerId                                         \n",
       "15634602           101348.88      1             0  \n",
       "15647311           112542.58      0             1  \n",
       "15619304           113931.57      1             1  \n",
       "15701354            93826.63      0             0  \n",
       "15737888            79084.10      0             1  "
      ]
     },
     "execution_count": 22,
     "metadata": {},
     "output_type": "execute_result"
    }
   ],
   "source": [
    "df.head()"
   ]
  },
  {
   "cell_type": "markdown",
   "id": "47da01de",
   "metadata": {},
   "source": [
    "# Define Lable and Features"
   ]
  },
  {
   "cell_type": "code",
   "execution_count": 23,
   "id": "fd17a613",
   "metadata": {},
   "outputs": [
    {
     "data": {
      "text/plain": [
       "Index(['Surname', 'CreditScore', 'Geography', 'Gender', 'Age', 'Tenure',\n",
       "       'Balance', 'Num Of Products', 'Has Credit Card', 'Is Active Member',\n",
       "       'Estimated Salary', 'Churn', 'Zero Balance'],\n",
       "      dtype='object')"
      ]
     },
     "execution_count": 23,
     "metadata": {},
     "output_type": "execute_result"
    }
   ],
   "source": [
    "df.columns"
   ]
  },
  {
   "cell_type": "code",
   "execution_count": 24,
   "id": "27675f7e",
   "metadata": {},
   "outputs": [],
   "source": [
    "X = df.drop([\"Surname\",\"Churn\"],axis=1)"
   ]
  },
  {
   "cell_type": "code",
   "execution_count": 25,
   "id": "7f5456a1",
   "metadata": {},
   "outputs": [],
   "source": [
    "y = df[\"Churn\"]"
   ]
  },
  {
   "cell_type": "code",
   "execution_count": 26,
   "id": "7af6853a",
   "metadata": {},
   "outputs": [
    {
     "data": {
      "text/plain": [
       "((10000, 11), (10000,))"
      ]
     },
     "execution_count": 26,
     "metadata": {},
     "output_type": "execute_result"
    }
   ],
   "source": [
    "X.shape,y.shape"
   ]
  },
  {
   "cell_type": "markdown",
   "id": "5a70f5c3",
   "metadata": {},
   "source": [
    "## Handling Imbalance Data"
   ]
  },
  {
   "cell_type": "code",
   "execution_count": 27,
   "id": "691ab1e1",
   "metadata": {},
   "outputs": [
    {
     "data": {
      "text/plain": [
       "0    7963\n",
       "1    2037\n",
       "Name: Churn, dtype: int64"
      ]
     },
     "execution_count": 27,
     "metadata": {},
     "output_type": "execute_result"
    }
   ],
   "source": [
    "df['Churn'].value_counts()"
   ]
  },
  {
   "cell_type": "code",
   "execution_count": 28,
   "id": "6ea31d7b",
   "metadata": {},
   "outputs": [
    {
     "data": {
      "text/plain": [
       "<AxesSubplot:xlabel='Churn', ylabel='count'>"
      ]
     },
     "execution_count": 28,
     "metadata": {},
     "output_type": "execute_result"
    },
    {
     "data": {
      "image/png": "[encoded data removed]",
      "text/plain": [
       "<Figure size 432x288 with 1 Axes>"
      ]
     },
     "metadata": {
      "needs_background": "light"
     },
     "output_type": "display_data"
    }
   ],
   "source": [
    "sns.countplot(x=\"Churn\",data=df)"
   ]
  },
  {
   "cell_type": "markdown",
   "id": "d3013b5b",
   "metadata": {},
   "source": [
    "# Random Undersampling - May lose data"
   ]
  },
  {
   "cell_type": "code",
   "execution_count": 30,
   "id": "90e18ec2",
   "metadata": {},
   "outputs": [],
   "source": [
    "from imblearn.under_sampling import RandomUnderSampler"
   ]
  },
  {
   "cell_type": "code",
   "execution_count": 32,
   "id": "e3257195",
   "metadata": {},
   "outputs": [],
   "source": [
    "rus = RandomUnderSampler(random_state=2529)"
   ]
  },
  {
   "cell_type": "code",
   "execution_count": 33,
   "id": "b3b005d7",
   "metadata": {},
   "outputs": [],
   "source": [
    "X_rus,y_rus = rus.fit_resample(X,y)"
   ]
  },
  {
   "cell_type": "code",
   "execution_count": 36,
   "id": "f259f54d",
   "metadata": {},
   "outputs": [
    {
     "data": {
      "text/plain": [
       "((4074, 11), (4074,), (10000, 11), (10000,))"
      ]
     },
     "execution_count": 36,
     "metadata": {},
     "output_type": "execute_result"
    }
   ],
   "source": [
    "X_rus.shape,y_rus.shape,X.shape,y.shape"
   ]
  },
  {
   "cell_type": "markdown",
   "id": "28b4cf12",
   "metadata": {},
   "source": [
    "# Random Oversampling - We do not lose data"
   ]
  },
  {
   "cell_type": "code",
   "execution_count": 38,
   "id": "7a0ff1c5",
   "metadata": {},
   "outputs": [],
   "source": [
    "from imblearn.over_sampling import RandomOverSampler"
   ]
  },
  {
   "cell_type": "code",
   "execution_count": 40,
   "id": "87d69ffb",
   "metadata": {},
   "outputs": [],
   "source": [
    "ros = RandomOverSampler(random_state=2529)"
   ]
  },
  {
   "cell_type": "code",
   "execution_count": 41,
   "id": "6f7a9233",
   "metadata": {},
   "outputs": [],
   "source": [
    "X_ros,y_ros = ros.fit_resample(X,y)"
   ]
  },
  {
   "cell_type": "code",
   "execution_count": 42,
   "id": "79efc489",
   "metadata": {},
   "outputs": [
    {
     "data": {
      "text/plain": [
       "((15926, 11), (15926,), (10000, 11), (10000,))"
      ]
     },
     "execution_count": 42,
     "metadata": {},
     "output_type": "execute_result"
    }
   ],
   "source": [
    "X_ros.shape,y_ros.shape,X.shape,y.shape"
   ]
  },
  {
   "cell_type": "markdown",
   "id": "97ef2cde",
   "metadata": {},
   "source": [
    "# Test Train split"
   ]
  },
  {
   "cell_type": "code",
   "execution_count": 43,
   "id": "fd065210",
   "metadata": {},
   "outputs": [],
   "source": [
    "from sklearn.model_selection import train_test_split"
   ]
  },
  {
   "cell_type": "code",
   "execution_count": 44,
   "id": "98880db7",
   "metadata": {},
   "outputs": [],
   "source": [
    "X_train,X_test,y_train,y_test = train_test_split(X,y,test_size=0.3,train_size=0.7,random_state=2529)"
   ]
  },
  {
   "cell_type": "code",
   "execution_count": 45,
   "id": "5ff03580",
   "metadata": {},
   "outputs": [],
   "source": [
    "X_train_rus,X_test_rus,y_train_rus,y_test_rus = train_test_split(X_rus,y_rus,test_size=0.3,train_size=0.7,random_state=2529)"
   ]
  },
  {
   "cell_type": "code",
   "execution_count": 46,
   "id": "c49f7d86",
   "metadata": {},
   "outputs": [],
   "source": [
    "X_train_ros,X_test_ros,y_train_ros,y_test_ros = train_test_split(X_ros,y_ros,test_size=0.3,train_size=0.7,random_state=2529)"
   ]
  },
  {
   "cell_type": "markdown",
   "id": "65ce1b55",
   "metadata": {},
   "source": [
    "# Preprocessing"
   ]
  },
  {
   "cell_type": "code",
   "execution_count": 47,
   "id": "38b70ceb",
   "metadata": {},
   "outputs": [],
   "source": [
    "from sklearn.preprocessing import StandardScaler"
   ]
  },
  {
   "cell_type": "code",
   "execution_count": 48,
   "id": "31811646",
   "metadata": {},
   "outputs": [],
   "source": [
    "sc = StandardScaler()"
   ]
  },
  {
   "cell_type": "code",
   "execution_count": 50,
   "id": "f1fd5ee0",
   "metadata": {},
   "outputs": [],
   "source": [
    "X_train[['CreditScore','Age','Tenure','Balance','Estimated Salary']] = sc.fit_transform(X_train[['CreditScore','Age','Tenure','Balance','Estimated Salary']])\n",
    "X_test[['CreditScore','Age','Tenure','Balance','Estimated Salary']] = sc.fit_transform(X_test[['CreditScore','Age','Tenure','Balance','Estimated Salary']])"
   ]
  },
  {
   "cell_type": "code",
   "execution_count": 51,
   "id": "149cdbbd",
   "metadata": {},
   "outputs": [],
   "source": [
    "X_train_rus[['CreditScore','Age','Tenure','Balance','Estimated Salary']] = sc.fit_transform(X_train_rus[['CreditScore','Age','Tenure','Balance','Estimated Salary']])\n",
    "X_test_rus[['CreditScore','Age','Tenure','Balance','Estimated Salary']] = sc.fit_transform(X_test_rus[['CreditScore','Age','Tenure','Balance','Estimated Salary']])"
   ]
  },
  {
   "cell_type": "code",
   "execution_count": 52,
   "id": "552e5c51",
   "metadata": {},
   "outputs": [],
   "source": [
    "X_train_ros[['CreditScore','Age','Tenure','Balance','Estimated Salary']] = sc.fit_transform(X_train_ros[['CreditScore','Age','Tenure','Balance','Estimated Salary']])\n",
    "X_test_ros[['CreditScore','Age','Tenure','Balance','Estimated Salary']] = sc.fit_transform(X_test_ros[['CreditScore','Age','Tenure','Balance','Estimated Salary']])"
   ]
  },
  {
   "cell_type": "markdown",
   "id": "d8e65e9b",
   "metadata": {},
   "source": [
    "# Support Vector Classifier"
   ]
  },
  {
   "cell_type": "code",
   "execution_count": 53,
   "id": "487afabe",
   "metadata": {},
   "outputs": [],
   "source": [
    "from sklearn.svm import SVC"
   ]
  },
  {
   "cell_type": "code",
   "execution_count": 56,
   "id": "caddd566",
   "metadata": {},
   "outputs": [],
   "source": [
    "svc = SVC()"
   ]
  },
  {
   "cell_type": "code",
   "execution_count": 60,
   "id": "3a301bed",
   "metadata": {},
   "outputs": [],
   "source": [
    "svc.fit(X_train,y_train)\n",
    "y_pred = svc.predict(X_test)"
   ]
  },
  {
   "cell_type": "code",
   "execution_count": 61,
   "id": "f1084302",
   "metadata": {},
   "outputs": [],
   "source": [
    "svc.fit(X_train_rus,y_train_rus)\n",
    "y_pred_rus = svc.predict(X_test_rus)"
   ]
  },
  {
   "cell_type": "code",
   "execution_count": 62,
   "id": "e06da8ff",
   "metadata": {},
   "outputs": [],
   "source": [
    "svc.fit(X_train_ros,y_train_ros)\n",
    "y_pred_ros = svc.predict(X_test_ros)"
   ]
  },
  {
   "cell_type": "markdown",
   "id": "2b24dc54",
   "metadata": {},
   "source": [
    "# Model Accuracy"
   ]
  },
  {
   "cell_type": "code",
   "execution_count": 63,
   "id": "3bd2ab7f",
   "metadata": {},
   "outputs": [],
   "source": [
    "from sklearn.metrics import confusion_matrix, classification_report"
   ]
  },
  {
   "cell_type": "code",
   "execution_count": 68,
   "id": "645b9cf0",
   "metadata": {},
   "outputs": [
    {
     "name": "stdout",
     "output_type": "stream",
     "text": [
      "              precision    recall  f1-score   support\n",
      "\n",
      "           0       0.85      0.99      0.91      2414\n",
      "           1       0.84      0.30      0.44       586\n",
      "\n",
      "    accuracy                           0.85      3000\n",
      "   macro avg       0.85      0.64      0.68      3000\n",
      "weighted avg       0.85      0.85      0.82      3000\n",
      "\n"
     ]
    }
   ],
   "source": [
    "confusion_matrix(y_test,y_pred)\n",
    "print(classification_report(y_test,y_pred))"
   ]
  },
  {
   "cell_type": "code",
   "execution_count": 69,
   "id": "2df22a2f",
   "metadata": {},
   "outputs": [
    {
     "name": "stdout",
     "output_type": "stream",
     "text": [
      "              precision    recall  f1-score   support\n",
      "\n",
      "           0       0.73      0.78      0.75       627\n",
      "           1       0.75      0.70      0.72       596\n",
      "\n",
      "    accuracy                           0.74      1223\n",
      "   macro avg       0.74      0.74      0.74      1223\n",
      "weighted avg       0.74      0.74      0.74      1223\n",
      "\n"
     ]
    }
   ],
   "source": [
    "confusion_matrix(y_test_rus,y_pred_rus)\n",
    "print(classification_report(y_test_rus,y_pred_rus))"
   ]
  },
  {
   "cell_type": "code",
   "execution_count": 70,
   "id": "3a667f2d",
   "metadata": {},
   "outputs": [
    {
     "name": "stdout",
     "output_type": "stream",
     "text": [
      "              precision    recall  f1-score   support\n",
      "\n",
      "           0       0.76      0.81      0.78      2379\n",
      "           1       0.80      0.74      0.77      2399\n",
      "\n",
      "    accuracy                           0.78      4778\n",
      "   macro avg       0.78      0.78      0.78      4778\n",
      "weighted avg       0.78      0.78      0.78      4778\n",
      "\n"
     ]
    }
   ],
   "source": [
    "confusion_matrix(y_test_ros,y_pred_ros)\n",
    "print(classification_report(y_test_ros,y_pred_ros))"
   ]
  },
  {
   "cell_type": "markdown",
   "id": "b999913c",
   "metadata": {},
   "source": [
    "# Hyperparameter tuning"
   ]
  },
  {
   "cell_type": "code",
   "execution_count": 80,
   "id": "1fb9cd96",
   "metadata": {},
   "outputs": [],
   "source": [
    "from sklearn.model_selection import GridSearchCV"
   ]
  },
  {
   "cell_type": "code",
   "execution_count": 84,
   "id": "34a8a514",
   "metadata": {},
   "outputs": [],
   "source": [
    "param_grid = {\n",
    "    'C':[0.1,1,10],\n",
    "    'gamma':[1,0.1,0.01],\n",
    "    'class_weight':['balanced']\n",
    "}"
   ]
  },
  {
   "cell_type": "code",
   "execution_count": 85,
   "id": "c03cd919",
   "metadata": {},
   "outputs": [],
   "source": [
    "  grid = GridSearchCV(SVC(),param_grid,refit=True,verbose=2,cv=2)\n"
   ]
  },
  {
   "cell_type": "code",
   "execution_count": 86,
   "id": "e66dbe25",
   "metadata": {},
   "outputs": [
    {
     "name": "stdout",
     "output_type": "stream",
     "text": [
      "Fitting 2 folds for each of 9 candidates, totalling 18 fits\n",
      "[CV] END ..............C=0.1, class_weight=balanced, gamma=1; total time=   1.7s\n",
      "[CV] END ..............C=0.1, class_weight=balanced, gamma=1; total time=   1.6s\n",
      "[CV] END ............C=0.1, class_weight=balanced, gamma=0.1; total time=   1.2s\n",
      "[CV] END ............C=0.1, class_weight=balanced, gamma=0.1; total time=   1.2s\n",
      "[CV] END ...........C=0.1, class_weight=balanced, gamma=0.01; total time=   1.3s\n",
      "[CV] END ...........C=0.1, class_weight=balanced, gamma=0.01; total time=   1.4s\n",
      "[CV] END ................C=1, class_weight=balanced, gamma=1; total time=   1.5s\n",
      "[CV] END ................C=1, class_weight=balanced, gamma=1; total time=   1.5s\n",
      "[CV] END ..............C=1, class_weight=balanced, gamma=0.1; total time=   1.0s\n",
      "[CV] END ..............C=1, class_weight=balanced, gamma=0.1; total time=   1.0s\n",
      "[CV] END .............C=1, class_weight=balanced, gamma=0.01; total time=   1.2s\n",
      "[CV] END .............C=1, class_weight=balanced, gamma=0.01; total time=   1.2s\n",
      "[CV] END ...............C=10, class_weight=balanced, gamma=1; total time=   1.5s\n",
      "[CV] END ...............C=10, class_weight=balanced, gamma=1; total time=   1.5s\n",
      "[CV] END .............C=10, class_weight=balanced, gamma=0.1; total time=   1.0s\n",
      "[CV] END .............C=10, class_weight=balanced, gamma=0.1; total time=   1.0s\n",
      "[CV] END ............C=10, class_weight=balanced, gamma=0.01; total time=   1.1s\n",
      "[CV] END ............C=10, class_weight=balanced, gamma=0.01; total time=   1.2s\n"
     ]
    },
    {
     "data": {
      "text/plain": [
       "GridSearchCV(cv=2, estimator=SVC(),\n",
       "             param_grid={'C': [0.1, 1, 10], 'class_weight': ['balanced'],\n",
       "                         'gamma': [1, 0.1, 0.01]},\n",
       "             verbose=2)"
      ]
     },
     "execution_count": 86,
     "metadata": {},
     "output_type": "execute_result"
    }
   ],
   "source": [
    "  grid.fit(X_train,y_train)  "
   ]
  },
  {
   "cell_type": "code",
   "execution_count": 89,
   "id": "0cf203d8",
   "metadata": {},
   "outputs": [
    {
     "name": "stdout",
     "output_type": "stream",
     "text": [
      "SVC(C=1, class_weight='balanced', gamma=1)\n",
      "              precision    recall  f1-score   support\n",
      "\n",
      "           0       0.89      0.88      0.88      2414\n",
      "           1       0.52      0.53      0.53       586\n",
      "\n",
      "    accuracy                           0.81      3000\n",
      "   macro avg       0.70      0.71      0.70      3000\n",
      "weighted avg       0.81      0.81      0.81      3000\n",
      "\n"
     ]
    }
   ],
   "source": [
    "print(grid.best_estimator_)\n",
    "grid_predictions = grid.predict(X_test)\n",
    "print(classification_report(y_test,grid_predictions))"
   ]
  },
  {
   "cell_type": "markdown",
   "id": "8fb34c86",
   "metadata": {},
   "source": [
    "## Under Sampling"
   ]
  },
  {
   "cell_type": "code",
   "execution_count": 95,
   "id": "078e2e9a",
   "metadata": {},
   "outputs": [
    {
     "name": "stdout",
     "output_type": "stream",
     "text": [
      "Fitting 2 folds for each of 9 candidates, totalling 18 fits\n",
      "[CV] END ..............C=0.1, class_weight=balanced, gamma=1; total time=   0.3s\n",
      "[CV] END ..............C=0.1, class_weight=balanced, gamma=1; total time=   0.3s\n",
      "[CV] END ............C=0.1, class_weight=balanced, gamma=0.1; total time=   0.2s\n",
      "[CV] END ............C=0.1, class_weight=balanced, gamma=0.1; total time=   0.3s\n",
      "[CV] END ...........C=0.1, class_weight=balanced, gamma=0.01; total time=   0.4s\n",
      "[CV] END ...........C=0.1, class_weight=balanced, gamma=0.01; total time=   0.3s\n",
      "[CV] END ................C=1, class_weight=balanced, gamma=1; total time=   0.2s\n",
      "[CV] END ................C=1, class_weight=balanced, gamma=1; total time=   0.3s\n",
      "[CV] END ..............C=1, class_weight=balanced, gamma=0.1; total time=   0.2s\n",
      "[CV] END ..............C=1, class_weight=balanced, gamma=0.1; total time=   0.2s\n",
      "[CV] END .............C=1, class_weight=balanced, gamma=0.01; total time=   0.2s\n",
      "[CV] END .............C=1, class_weight=balanced, gamma=0.01; total time=   0.2s\n",
      "[CV] END ...............C=10, class_weight=balanced, gamma=1; total time=   0.4s\n",
      "[CV] END ...............C=10, class_weight=balanced, gamma=1; total time=   0.2s\n",
      "[CV] END .............C=10, class_weight=balanced, gamma=0.1; total time=   0.1s\n",
      "[CV] END .............C=10, class_weight=balanced, gamma=0.1; total time=   0.1s\n",
      "[CV] END ............C=10, class_weight=balanced, gamma=0.01; total time=   0.1s\n",
      "[CV] END ............C=10, class_weight=balanced, gamma=0.01; total time=   0.3s\n"
     ]
    },
    {
     "data": {
      "text/plain": [
       "GridSearchCV(cv=2, estimator=SVC(),\n",
       "             param_grid={'C': [0.1, 1, 10], 'class_weight': ['balanced'],\n",
       "                         'gamma': [1, 0.1, 0.01]},\n",
       "             verbose=2)"
      ]
     },
     "execution_count": 95,
     "metadata": {},
     "output_type": "execute_result"
    }
   ],
   "source": [
    "grid.fit(X_train_rus,y_train_rus) "
   ]
  },
  {
   "cell_type": "code",
   "execution_count": 96,
   "id": "a5a48c2a",
   "metadata": {},
   "outputs": [
    {
     "name": "stdout",
     "output_type": "stream",
     "text": [
      "SVC(C=1, class_weight='balanced', gamma=0.1)\n",
      "              precision    recall  f1-score   support\n",
      "\n",
      "           0       0.73      0.78      0.75       627\n",
      "           1       0.75      0.69      0.72       596\n",
      "\n",
      "    accuracy                           0.74      1223\n",
      "   macro avg       0.74      0.74      0.74      1223\n",
      "weighted avg       0.74      0.74      0.74      1223\n",
      "\n"
     ]
    }
   ],
   "source": [
    "print(grid.best_estimator_)\n",
    "grid_predictions = grid.predict(X_test_rus)\n",
    "print(classification_report(y_test_rus,grid_predictions))"
   ]
  },
  {
   "cell_type": "markdown",
   "id": "0d76c8d3",
   "metadata": {},
   "source": [
    "## Over Sampling"
   ]
  },
  {
   "cell_type": "code",
   "execution_count": 97,
   "id": "84a7dd3e",
   "metadata": {},
   "outputs": [
    {
     "name": "stdout",
     "output_type": "stream",
     "text": [
      "Fitting 2 folds for each of 9 candidates, totalling 18 fits\n",
      "[CV] END ..............C=0.1, class_weight=balanced, gamma=1; total time=   5.7s\n",
      "[CV] END ..............C=0.1, class_weight=balanced, gamma=1; total time=   5.5s\n",
      "[CV] END ............C=0.1, class_weight=balanced, gamma=0.1; total time=   3.8s\n",
      "[CV] END ............C=0.1, class_weight=balanced, gamma=0.1; total time=   3.8s\n",
      "[CV] END ...........C=0.1, class_weight=balanced, gamma=0.01; total time=   4.3s\n",
      "[CV] END ...........C=0.1, class_weight=balanced, gamma=0.01; total time=   4.4s\n",
      "[CV] END ................C=1, class_weight=balanced, gamma=1; total time=   4.2s\n",
      "[CV] END ................C=1, class_weight=balanced, gamma=1; total time=   4.8s\n",
      "[CV] END ..............C=1, class_weight=balanced, gamma=0.1; total time=   3.6s\n",
      "[CV] END ..............C=1, class_weight=balanced, gamma=0.1; total time=   3.7s\n",
      "[CV] END .............C=1, class_weight=balanced, gamma=0.01; total time=   4.3s\n",
      "[CV] END .............C=1, class_weight=balanced, gamma=0.01; total time=   3.8s\n",
      "[CV] END ...............C=10, class_weight=balanced, gamma=1; total time=   4.2s\n",
      "[CV] END ...............C=10, class_weight=balanced, gamma=1; total time=   4.2s\n",
      "[CV] END .............C=10, class_weight=balanced, gamma=0.1; total time=   3.0s\n",
      "[CV] END .............C=10, class_weight=balanced, gamma=0.1; total time=   2.7s\n",
      "[CV] END ............C=10, class_weight=balanced, gamma=0.01; total time=   3.5s\n",
      "[CV] END ............C=10, class_weight=balanced, gamma=0.01; total time=   3.2s\n"
     ]
    },
    {
     "data": {
      "text/plain": [
       "GridSearchCV(cv=2, estimator=SVC(),\n",
       "             param_grid={'C': [0.1, 1, 10], 'class_weight': ['balanced'],\n",
       "                         'gamma': [1, 0.1, 0.01]},\n",
       "             verbose=2)"
      ]
     },
     "execution_count": 97,
     "metadata": {},
     "output_type": "execute_result"
    }
   ],
   "source": [
    "grid.fit(X_train_ros,y_train_ros) \n"
   ]
  },
  {
   "cell_type": "code",
   "execution_count": 98,
   "id": "cabc2a94",
   "metadata": {},
   "outputs": [
    {
     "name": "stdout",
     "output_type": "stream",
     "text": [
      "SVC(C=10, class_weight='balanced', gamma=1)\n",
      "              precision    recall  f1-score   support\n",
      "\n",
      "           0       0.97      0.88      0.92      2379\n",
      "           1       0.89      0.98      0.93      2399\n",
      "\n",
      "    accuracy                           0.93      4778\n",
      "   macro avg       0.93      0.93      0.93      4778\n",
      "weighted avg       0.93      0.93      0.93      4778\n",
      "\n"
     ]
    }
   ],
   "source": [
    "print(grid.best_estimator_)\n",
    "grid_predictions = grid.predict(X_test_ros)\n",
    "print(classification_report(y_test_ros,grid_predictions))"
   ]
  },
  {
   "cell_type": "code",
   "execution_count": null,
   "id": "3f55530f",
   "metadata": {},
   "outputs": [],
   "source": []
  }
 ],
 "metadata": {
  "kernelspec": {
   "display_name": "Python 3 (ipykernel)",
   "language": "python",
   "name": "python3"
  },
  "language_info": {
   "codemirror_mode": {
    "name": "ipython",
    "version": 3
   },
   "file_extension": ".py",
   "mimetype": "text/x-python",
   "name": "python",
   "nbconvert_exporter": "python",
   "pygments_lexer": "ipython3",
   "version": "3.9.7"
  }
 },
 "nbformat": 4,
 "nbformat_minor": 5
}
